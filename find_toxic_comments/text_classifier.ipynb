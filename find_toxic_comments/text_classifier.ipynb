{
  "cells": [
    {
      "cell_type": "markdown",
      "metadata": {
        "toc": true,
        "id": "mSF0--siNzsa"
      },
      "source": [
        "<h1>Содержание<span class=\"tocSkip\"></span></h1>\n",
        "<div class=\"toc\"><ul class=\"toc-item\"><li><span><a href=\"#Изучение-общей-информации-и-первичная-подготовка-данных\" data-toc-modified-id=\"Изучение-общей-информации-и-первичная-подготовка-данных-1\"><span class=\"toc-item-num\">1&nbsp;&nbsp;</span>Изучение общей информации и первичная подготовка данных</a></span></li><li><span><a href=\"#Подготовка-текста-для-моделирования\" data-toc-modified-id=\"Подготовка-текста-для-моделирования-2\"><span class=\"toc-item-num\">2&nbsp;&nbsp;</span>Подготовка текста для моделирования</a></span></li><li><span><a href=\"#Обучение-моделей\" data-toc-modified-id=\"Обучение-моделей-3\"><span class=\"toc-item-num\">3&nbsp;&nbsp;</span>Обучение моделей</a></span><ul class=\"toc-item\"><li><span><a href=\"#Moдель-LogisticRegression\" data-toc-modified-id=\"Moдель-LogisticRegression-3.1\"><span class=\"toc-item-num\">3.1&nbsp;&nbsp;</span>Moдель LogisticRegression</a></span></li><li><span><a href=\"#Moдель-RandomForestClassifier\" data-toc-modified-id=\"Moдель-RandomForestClassifier-3.2\"><span class=\"toc-item-num\">3.2&nbsp;&nbsp;</span>Moдель RandomForestClassifier</a></span></li><li><span><a href=\"#Moдель-SGDClassifier\" data-toc-modified-id=\"Moдель-SGDClassifier-3.3\"><span class=\"toc-item-num\">3.3&nbsp;&nbsp;</span>Moдель SGDClassifier</a></span></li></ul></li><li><span><a href=\"#Тестирование\" data-toc-modified-id=\"Тестирование-4\"><span class=\"toc-item-num\">4&nbsp;&nbsp;</span>Тестирование</a></span></li><li><span><a href=\"#Выводы\" data-toc-modified-id=\"Выводы-5\"><span class=\"toc-item-num\">5&nbsp;&nbsp;</span>Выводы</a></span></li>"
      ]
    },
    {
      "cell_type": "markdown",
      "metadata": {
        "id": "CHCEuex4Nzsf"
      },
      "source": [
        "<h1><center>Разработка модели МО для классификации комментариев</center></h1>"
      ]
    },
    {
      "cell_type": "markdown",
      "metadata": {
        "id": "b0w6a5ukNzsf"
      },
      "source": [
        "# Описание исследования\n",
        "\n",
        "Интернет-магазин запускает новый сервис. Теперь пользователи могут редактировать и дополнять описания товаров, как в вики-сообществах. То есть клиенты предлагают свои правки и комментируют изменения других. Магазину нужен инструмент, который будет искать токсичные комментарии и отправлять их на модерацию.  \n",
        "\n",
        "\n",
        "# Цель проекта\n",
        "\n",
        "С помощью машинного обучения необходимо классифицировать комментарии на позитивные и негативные.\n",
        "\n",
        "# Задачи исследования\n",
        "\n",
        "Разработать модель машинного обучения для классификации комментариев на позитивные и негативные на основе набора данных с разметкой о токсичности правок.\n",
        "\n",
        "Для этого нужно:\n",
        "\n",
        "1. Загрузить и подготовить данные.\n",
        "2. Проанализировать данные.\n",
        "3. Обучить разные модели с различными гиперпараметрами.\n",
        "4. Проверить данные на тестовой выборке и сделать выводы.\n",
        "\n",
        "\n",
        "Критерием выбора лучшей модели является значение метрики качества *F1* не меньше 0.75.\n",
        "\n",
        "\n",
        "# Исходные данные\n",
        "\n",
        "В наличии csv-файл `toxic_comments.csv`.\n",
        "\n",
        "Название и описание столбцов:\n",
        "- *text* - текст комментария.\n",
        "- *toxic* - целевой признак: 1 - негативный комментарий, 0 - положительный."
      ]
    },
    {
      "cell_type": "markdown",
      "metadata": {
        "id": "upfnY-uoNzsf"
      },
      "source": [
        "## Изучение общей информации и первичная подготовка данных"
      ]
    },
    {
      "cell_type": "code",
      "execution_count": null,
      "metadata": {
        "id": "_LKwqKl2Nzsg",
        "outputId": "51012545-6997-44b3-8700-6e3b683c9710"
      },
      "outputs": [
        {
          "name": "stderr",
          "output_type": "stream",
          "text": [
            "[nltk_data] Downloading package wordnet to /home/jovyan/nltk_data...\n",
            "[nltk_data]   Package wordnet is already up-to-date!\n"
          ]
        }
      ],
      "source": [
        "# импорт библиотек\n",
        "import os\n",
        "import numpy as np\n",
        "import pandas as pd\n",
        "from matplotlib import pyplot as plt\n",
        "import seaborn as sns\n",
        "from sklearn.model_selection import train_test_split\n",
        "from sklearn.dummy import DummyClassifier\n",
        "\n",
        "# загружаем инструменты для работы с текстом\n",
        "import nltk\n",
        "nltk.download('wordnet')\n",
        "from nltk.stem import WordNetLemmatizer\n",
        "from nltk.corpus import stopwords as nltk_stopwords\n",
        "from sklearn.feature_extraction.text import TfidfVectorizer, CountVectorizer, TfidfTransformer\n",
        "from pymystem3 import Mystem\n",
        "import re\n",
        "from tqdm import notebook\n",
        "from tqdm.notebook import tqdm\n",
        "\n",
        "# загружаем инструмент для автоподбора гиперпараметров\n",
        "from sklearn.model_selection import GridSearchCV\n",
        "from sklearn.pipeline import Pipeline\n",
        "\n",
        "# загружаем нужные метрики\n",
        "from sklearn.metrics import f1_score, confusion_matrix\n",
        "\n",
        "# загружаем нужные модели\n",
        "from sklearn.linear_model import LogisticRegression, SGDClassifier\n",
        "from sklearn.ensemble import RandomForestClassifier"
      ]
    },
    {
      "cell_type": "code",
      "execution_count": null,
      "metadata": {
        "id": "Tc8j1hS7Nzsi"
      },
      "outputs": [],
      "source": [
        "# настройка графиков\n",
        "\n",
        "# улучшение чёткости изображения\n",
        "%config InlineBackend.figure_format = 'retina'\n",
        "\n",
        "# настройка шрифтов заголовков и подписей для графиков\n",
        "large = 16; med = 14; small = 12\n",
        "params = {'axes.titlesize': large,\n",
        "          'axes.titleweight': 'bold',\n",
        "          'legend.fontsize': med,\n",
        "          'axes.labelsize': med,\n",
        "          'axes.titlesize': med,\n",
        "          'xtick.labelsize': med,\n",
        "          'ytick.labelsize': med,\n",
        "          'figure.titlesize': large,\n",
        "          'figure.titleweight': 'bold'}\n",
        "plt.rcParams.update(params)\n",
        "plt.style.use('seaborn-bright')"
      ]
    },
    {
      "cell_type": "code",
      "execution_count": null,
      "metadata": {
        "id": "v73R9DsXNzsi"
      },
      "outputs": [],
      "source": [
        "# задание константных значений\n",
        "RANDOM_STATE = 42\n",
        "TEST_SIZE = 0.25"
      ]
    },
    {
      "cell_type": "markdown",
      "metadata": {
        "id": "ew_QqVjPNzsj"
      },
      "source": [
        "Для начала считаем исходный csv-файл и сохраним его в переменной df. Затем сделаем предварительный просмотр данных методом sample(10) и с помощью метода info() узнаем основные характеристики исходного датасета."
      ]
    },
    {
      "cell_type": "code",
      "execution_count": null,
      "metadata": {
        "id": "j2n5aztaNzsj"
      },
      "outputs": [],
      "source": [
        "# сохранение данных в переменной df, если путь неверный выдать сообщение об ошибке\n",
        "path = '/datasets/toxic_comments.csv'\n",
        "\n",
        "if os.path.exists(path):\n",
        "    df = pd.read_csv(path, index_col='Unnamed: 0')\n",
        "else:\n",
        "    print('Something is wrong')"
      ]
    },
    {
      "cell_type": "code",
      "execution_count": null,
      "metadata": {
        "id": "-TbN001uNzsj",
        "outputId": "338f0651-a41d-4662-dec5-f10f1a9c6eb0"
      },
      "outputs": [
        {
          "data": {
            "text/html": [
              "<div>\n",
              "<style scoped>\n",
              "    .dataframe tbody tr th:only-of-type {\n",
              "        vertical-align: middle;\n",
              "    }\n",
              "\n",
              "    .dataframe tbody tr th {\n",
              "        vertical-align: top;\n",
              "    }\n",
              "\n",
              "    .dataframe thead th {\n",
              "        text-align: right;\n",
              "    }\n",
              "</style>\n",
              "<table border=\"1\" class=\"dataframe\">\n",
              "  <thead>\n",
              "    <tr style=\"text-align: right;\">\n",
              "      <th></th>\n",
              "      <th>text</th>\n",
              "      <th>toxic</th>\n",
              "    </tr>\n",
              "  </thead>\n",
              "  <tbody>\n",
              "    <tr>\n",
              "      <th>126544</th>\n",
              "      <td>False accusations of vandalism \\n\\nI have a ve...</td>\n",
              "      <td>0</td>\n",
              "    </tr>\n",
              "    <tr>\n",
              "      <th>70824</th>\n",
              "      <td>Moving pages \\n\\nHi, could you stop moving pag...</td>\n",
              "      <td>0</td>\n",
              "    </tr>\n",
              "    <tr>\n",
              "      <th>123512</th>\n",
              "      <td>Hunter...\\nI luv your page im jealous why is i...</td>\n",
              "      <td>0</td>\n",
              "    </tr>\n",
              "    <tr>\n",
              "      <th>99405</th>\n",
              "      <td>Give it and other links a try in See also that...</td>\n",
              "      <td>0</td>\n",
              "    </tr>\n",
              "    <tr>\n",
              "      <th>86953</th>\n",
              "      <td>\"Untitled==\\nThe article on Mastix is awful, b...</td>\n",
              "      <td>0</td>\n",
              "    </tr>\n",
              "    <tr>\n",
              "      <th>155851</th>\n",
              "      <td>Thanks. If you wouldn't mind, please self-reve...</td>\n",
              "      <td>0</td>\n",
              "    </tr>\n",
              "    <tr>\n",
              "      <th>65603</th>\n",
              "      <td>Article should be moved to Mark Basseley Youss...</td>\n",
              "      <td>0</td>\n",
              "    </tr>\n",
              "    <tr>\n",
              "      <th>24314</th>\n",
              "      <td>If you thought of a better one - offer it.</td>\n",
              "      <td>0</td>\n",
              "    </tr>\n",
              "    <tr>\n",
              "      <th>57783</th>\n",
              "      <td>\"\\n\\nOrphaned fair use image (Image:Worldcup98...</td>\n",
              "      <td>0</td>\n",
              "    </tr>\n",
              "    <tr>\n",
              "      <th>2308</th>\n",
              "      <td>\"\\n\\n Deletion probable \\n\\nI'm not aware that...</td>\n",
              "      <td>0</td>\n",
              "    </tr>\n",
              "  </tbody>\n",
              "</table>\n",
              "</div>"
            ],
            "text/plain": [
              "                                                     text  toxic\n",
              "126544  False accusations of vandalism \\n\\nI have a ve...      0\n",
              "70824   Moving pages \\n\\nHi, could you stop moving pag...      0\n",
              "123512  Hunter...\\nI luv your page im jealous why is i...      0\n",
              "99405   Give it and other links a try in See also that...      0\n",
              "86953   \"Untitled==\\nThe article on Mastix is awful, b...      0\n",
              "155851  Thanks. If you wouldn't mind, please self-reve...      0\n",
              "65603   Article should be moved to Mark Basseley Youss...      0\n",
              "24314          If you thought of a better one - offer it.      0\n",
              "57783   \"\\n\\nOrphaned fair use image (Image:Worldcup98...      0\n",
              "2308    \"\\n\\n Deletion probable \\n\\nI'm not aware that...      0"
            ]
          },
          "execution_count": 5,
          "metadata": {},
          "output_type": "execute_result"
        }
      ],
      "source": [
        "# просмотр 10 случайных строк датафрейма\n",
        "df.sample(10)"
      ]
    },
    {
      "cell_type": "code",
      "execution_count": null,
      "metadata": {
        "id": "k2lD2kxuNzsk",
        "outputId": "243e95e9-da73-488e-e4d8-57dc134c667d"
      },
      "outputs": [
        {
          "name": "stdout",
          "output_type": "stream",
          "text": [
            "<class 'pandas.core.frame.DataFrame'>\n",
            "Int64Index: 159292 entries, 0 to 159450\n",
            "Data columns (total 2 columns):\n",
            " #   Column  Non-Null Count   Dtype \n",
            "---  ------  --------------   ----- \n",
            " 0   text    159292 non-null  object\n",
            " 1   toxic   159292 non-null  int64 \n",
            "dtypes: int64(1), object(1)\n",
            "memory usage: 3.6+ MB\n"
          ]
        }
      ],
      "source": [
        "df.info()"
      ]
    },
    {
      "cell_type": "markdown",
      "metadata": {
        "id": "72ksCpxPNzsk"
      },
      "source": [
        "<font size=\"4\"><b>Выводы по первоначальному обзору данных в датафрейма df</b></font>\n",
        "\n",
        "- Названия столбцов менять не надо.\n",
        "- В данных 159292 строчек и 2 столбца.\n",
        "- Пропусков нет.\n",
        "- В данных присутствуют комментарии, написанные верхним регистром. Нужно привести данные в столбце 'text' к нижнему регистру и проверить датафрейм на дубликаты.\n",
        "- Тип данных в столбце `toxic` можно преобразовывать в булевский, но пока оставим как есть.\n",
        "\n",
        "Проверим есть ли дисбаланс классов в целевом признаке. Для наглядности визуализируем результат с помощью горизонтальной столбчатой диаграммы."
      ]
    },
    {
      "cell_type": "code",
      "execution_count": null,
      "metadata": {
        "id": "VOgFq1b_Nzsk",
        "outputId": "ac7842bb-747b-48af-a154-4cf1dc6d0ebf"
      },
      "outputs": [
        {
          "data": {
            "image/png": "[encoded data removed]",
            "text/plain": [
              "<Figure size 576x288 with 1 Axes>"
            ]
          },
          "metadata": {
            "image/png": {
              "height": 304,
              "width": 519
            },
            "needs_background": "light"
          },
          "output_type": "display_data"
        }
      ],
      "source": [
        "# построение графика\n",
        "ax = df['toxic'] \\\n",
        "    .value_counts(ascending=True) \\\n",
        "        .to_frame() \\\n",
        "        .plot(y='toxic', kind='barh',\n",
        "              legend=False, figsize=(8, 4))\n",
        "\n",
        "plt.title('Распределение объектов каждого класса\\n \"1\" - негативный и \"0\" - позитивный')\n",
        "plt.ylabel('Класс')\n",
        "plt.xlabel('Количество')\n",
        "\n",
        "# добавление меток для каждого столбца\n",
        "for index, value in enumerate(df['toxic'].value_counts(ascending=True)):\n",
        "    ax.text(value, index, str(value), ha='left', va='center', fontsize=12)\n",
        "\n",
        "plt.show()"
      ]
    },
    {
      "cell_type": "markdown",
      "metadata": {
        "id": "EeHEnR1HNzsl"
      },
      "source": [
        "Налицо дисбаланс классов: позитивных отзывов (класс \"0\") в 8.8 раз больше, чем токсичных (класс \"1\"). Необходимо будет это учесть при разделении датасета на обучающую и тестовую выборки.\n",
        "\n",
        "Как было выявлено при первоначальном обзоре данных в столбце `text` присутствуют комментарии, написанные верхним регистром. Приведём всё к нижнему регистру и проверим наличие строк-дубликат с помощью комбинации методов duplicated() и sum()."
      ]
    },
    {
      "cell_type": "code",
      "execution_count": null,
      "metadata": {
        "id": "-msNQzZSNzsl",
        "outputId": "5a9bd8cf-86c9-44f1-c52f-bb9ca5ad84f8"
      },
      "outputs": [
        {
          "data": {
            "text/plain": [
              "45"
            ]
          },
          "execution_count": 8,
          "metadata": {},
          "output_type": "execute_result"
        }
      ],
      "source": [
        "# приведение данных в столбце text к нижнему регистру\n",
        "df['text'] = df['text'].str.lower()\n",
        "\n",
        "# проверка наличия дублирующихся строчек\n",
        "df.duplicated().sum()"
      ]
    },
    {
      "cell_type": "markdown",
      "metadata": {
        "id": "VnOghYzNNzsl"
      },
      "source": [
        "Как выяснилось в результате проверки, в данных есть 45 дублирующихся строчек. Удалим их с помощью drop_duplicates()."
      ]
    },
    {
      "cell_type": "code",
      "execution_count": null,
      "metadata": {
        "id": "0AcAWH5NNzsm",
        "outputId": "57689db2-eb50-4f8b-b597-70d9786ccaf6"
      },
      "outputs": [
        {
          "data": {
            "text/plain": [
              "0"
            ]
          },
          "execution_count": 9,
          "metadata": {},
          "output_type": "execute_result"
        }
      ],
      "source": [
        "# удаление строк-дубликат в датафреймах df и data методом drop_duplicates()\n",
        "df.drop_duplicates(inplace=True)\n",
        "\n",
        "# проверка удаления дублирующихся строчек\n",
        "df.duplicated().sum()"
      ]
    },
    {
      "cell_type": "markdown",
      "metadata": {
        "id": "XhTPgskUNzsm"
      },
      "source": [
        "<font size=\"4\"><b>Выводы по этапу обзора и первичной обработки данных:</b></font>\n",
        "\n",
        "- Было выявлено, что присутствует дисбаланс классов в целевом признаке: позитивных отзывов (класс \"0\") в 8.8 раз больше, чем токсичных (класс \"1\").\n",
        "- После приведения данных в столбце `text` к нижнему регистру, было обнаружено 45 дублирующихся строчек. Они были удалены."
      ]
    },
    {
      "cell_type": "markdown",
      "metadata": {
        "id": "1_DOugJuNzsm"
      },
      "source": [
        "## Подготовка текста для моделирования"
      ]
    },
    {
      "cell_type": "markdown",
      "metadata": {
        "id": "C9ddU9ibNzsm"
      },
      "source": [
        "Для того, чтобы использовать текст в моделировании, необходимо провести его предобработку и затем перевести в векторный формат.\n",
        "\n",
        "Предобработка текста включает следующие этапы:\n",
        "- очищение текста от неинформативных символов;\n",
        "- токенизация текста, т.е. его разделение на слова;\n",
        "- лемматизация, т.е. приведение к начальной словарной форме.\n",
        "\n",
        "Напишем функции для предобработки текста.\n",
        "Лемматизацию сделаем с помощью WordNetLemmatizer библиотеки NLTK. В качестве второго аргумента lemmatize() укажем тег `pos='v'`, т.е. `verb`, т.к. больше неточностей возникает в лемматизации глаголов."
      ]
    },
    {
      "cell_type": "code",
      "execution_count": null,
      "metadata": {
        "id": "Z0ncRb11Nzsn"
      },
      "outputs": [],
      "source": [
        "# создание экземпляра WordNetLemmatizer()\n",
        "lemmatizer = WordNetLemmatizer()\n",
        "\n",
        "def preprocessing(text):\n",
        "    '''\n",
        "    Функция, которая очищает текст от ненужных символов,\n",
        "    производит токенизацию текста с помощью метода split(),\n",
        "    затем лемматизацию с помощью lemmatize()\n",
        "    и сшивку получившихся слов методом join()\n",
        "    '''\n",
        "    clean = re.sub(r'[^a-zA-Z ]', ' ', text)\n",
        "    words = clean.split()\n",
        "    words = [lemmatizer.lemmatize(word, pos='v') for word in words]\n",
        "    return ' '.join(words)"
      ]
    },
    {
      "cell_type": "code",
      "execution_count": null,
      "metadata": {
        "colab": {
          "referenced_widgets": [
            "307c800d93c3413ea39f5a071bc7afed"
          ]
        },
        "id": "mc0EB94pNzsn",
        "outputId": "ac245b93-63d7-41ff-ef89-f3c4b1866f0e"
      },
      "outputs": [
        {
          "data": {
            "application/vnd.jupyter.widget-view+json": {
              "model_id": "307c800d93c3413ea39f5a071bc7afed",
              "version_major": 2,
              "version_minor": 0
            },
            "text/plain": [
              "  0%|          | 0/159247 [00:00<?, ?it/s]"
            ]
          },
          "metadata": {},
          "output_type": "display_data"
        }
      ],
      "source": [
        "# запуск прогресс-бара\n",
        "\n",
        "tqdm.pandas()\n",
        "df['prepared'] = df['text'].progress_apply(preprocessing)"
      ]
    },
    {
      "cell_type": "markdown",
      "metadata": {
        "id": "_gRa08MPNzso"
      },
      "source": [
        "Посмотрим на результат применения функций токенизации, лемматизации и очистки от неинформативных символов. С помощью метода sample() сравним исходный и подготовленный текст."
      ]
    },
    {
      "cell_type": "code",
      "execution_count": null,
      "metadata": {
        "id": "3JWOY4euNzso",
        "outputId": "d9c2e502-ae4b-41af-a37c-b02c72ca3fdd"
      },
      "outputs": [
        {
          "data": {
            "text/html": [
              "<div>\n",
              "<style scoped>\n",
              "    .dataframe tbody tr th:only-of-type {\n",
              "        vertical-align: middle;\n",
              "    }\n",
              "\n",
              "    .dataframe tbody tr th {\n",
              "        vertical-align: top;\n",
              "    }\n",
              "\n",
              "    .dataframe thead th {\n",
              "        text-align: right;\n",
              "    }\n",
              "</style>\n",
              "<table border=\"1\" class=\"dataframe\">\n",
              "  <thead>\n",
              "    <tr style=\"text-align: right;\">\n",
              "      <th></th>\n",
              "      <th>text</th>\n",
              "      <th>toxic</th>\n",
              "      <th>prepared</th>\n",
              "    </tr>\n",
              "  </thead>\n",
              "  <tbody>\n",
              "    <tr>\n",
              "      <th>67410</th>\n",
              "      <td>\")\\n\\ni see what you mean, this page convenien...</td>\n",
              "      <td>0</td>\n",
              "      <td>i see what you mean this page conveniently lea...</td>\n",
              "    </tr>\n",
              "    <tr>\n",
              "      <th>63535</th>\n",
              "      <td>bjerknes' site gives a long list of published ...</td>\n",
              "      <td>0</td>\n",
              "      <td>bjerknes site give a long list of publish refe...</td>\n",
              "    </tr>\n",
              "    <tr>\n",
              "      <th>41115</th>\n",
              "      <td>\"\\nthank you for filing the rfc. please do not...</td>\n",
              "      <td>0</td>\n",
              "      <td>thank you for file the rfc please do not menti...</td>\n",
              "    </tr>\n",
              "    <tr>\n",
              "      <th>129524</th>\n",
              "      <td>dear readers,\\n\\nmy last will is that my accou...</td>\n",
              "      <td>0</td>\n",
              "      <td>dear readers my last will be that my account s...</td>\n",
              "    </tr>\n",
              "    <tr>\n",
              "      <th>62444</th>\n",
              "      <td>\"hello, \"\"rhpitts1055\"\"\\n\\nwhere did you find ...</td>\n",
              "      <td>0</td>\n",
              "      <td>hello rhpitts where do you find the date for h...</td>\n",
              "    </tr>\n",
              "    <tr>\n",
              "      <th>90806</th>\n",
              "      <td>my apologies for removing w/o permission. i'm ...</td>\n",
              "      <td>0</td>\n",
              "      <td>my apologies for remove w o permission i m do ...</td>\n",
              "    </tr>\n",
              "    <tr>\n",
              "      <th>17296</th>\n",
              "      <td>\"\\n\\n this is our one demand you can not get y...</td>\n",
              "      <td>0</td>\n",
              "      <td>this be our one demand you can not get your or...</td>\n",
              "    </tr>\n",
              "    <tr>\n",
              "      <th>15076</th>\n",
              "      <td>\"\\nif fallout boy wouldn't mind my commenting ...</td>\n",
              "      <td>0</td>\n",
              "      <td>if fallout boy wouldn t mind my comment on the...</td>\n",
              "    </tr>\n",
              "    <tr>\n",
              "      <th>7719</th>\n",
              "      <td>europeans are the racist trolls. \\n\\nswedes ar...</td>\n",
              "      <td>1</td>\n",
              "      <td>europeans be the racist troll swedes be anti s...</td>\n",
              "    </tr>\n",
              "    <tr>\n",
              "      <th>3092</th>\n",
              "      <td>this might be a better article if someone proc...</td>\n",
              "      <td>0</td>\n",
              "      <td>this might be a better article if someone proc...</td>\n",
              "    </tr>\n",
              "  </tbody>\n",
              "</table>\n",
              "</div>"
            ],
            "text/plain": [
              "                                                     text  toxic  \\\n",
              "67410   \")\\n\\ni see what you mean, this page convenien...      0   \n",
              "63535   bjerknes' site gives a long list of published ...      0   \n",
              "41115   \"\\nthank you for filing the rfc. please do not...      0   \n",
              "129524  dear readers,\\n\\nmy last will is that my accou...      0   \n",
              "62444   \"hello, \"\"rhpitts1055\"\"\\n\\nwhere did you find ...      0   \n",
              "90806   my apologies for removing w/o permission. i'm ...      0   \n",
              "17296   \"\\n\\n this is our one demand you can not get y...      0   \n",
              "15076   \"\\nif fallout boy wouldn't mind my commenting ...      0   \n",
              "7719    europeans are the racist trolls. \\n\\nswedes ar...      1   \n",
              "3092    this might be a better article if someone proc...      0   \n",
              "\n",
              "                                                 prepared  \n",
              "67410   i see what you mean this page conveniently lea...  \n",
              "63535   bjerknes site give a long list of publish refe...  \n",
              "41115   thank you for file the rfc please do not menti...  \n",
              "129524  dear readers my last will be that my account s...  \n",
              "62444   hello rhpitts where do you find the date for h...  \n",
              "90806   my apologies for remove w o permission i m do ...  \n",
              "17296   this be our one demand you can not get your or...  \n",
              "15076   if fallout boy wouldn t mind my comment on the...  \n",
              "7719    europeans be the racist troll swedes be anti s...  \n",
              "3092    this might be a better article if someone proc...  "
            ]
          },
          "execution_count": 13,
          "metadata": {},
          "output_type": "execute_result"
        }
      ],
      "source": [
        "df.sample(10)"
      ]
    },
    {
      "cell_type": "markdown",
      "metadata": {
        "id": "nO2pUHtPNzso"
      },
      "source": [
        "Проверка показала, что\n",
        "* все лишние символы (кавычки, числа, знаки препинания, переносы строк и т.п.) пропали;\n",
        "* текст на первый взгляд достаточно хорошо лемматизировался, т.е. и в существительных слова во множественном числе приведены к единственному, и в глаголах пропали окончания времени и рода (-s, -ed, -ing), а неправильные приведены к первой форме (например, was -> be, wrote -> write и т.д.). Оставим этот вариант предобработки текста. В случае неудовлетворительного качества модели, вернемся к этому вопросу. Можно будет попробовать использовать \"распознаватель\" части речи для более точной лемматизации (nltk.pos_tag()).\n",
        "\n",
        "Разделим данные на обучающую и тестовую выборку с учетом стратификации по целевому признаку."
      ]
    },
    {
      "cell_type": "code",
      "execution_count": null,
      "metadata": {
        "id": "DovlDhubNzsp",
        "outputId": "09f02f0a-81c4-45fc-ceb8-5a03e2d5e224"
      },
      "outputs": [
        {
          "name": "stdout",
          "output_type": "stream",
          "text": [
            "Размер обучающей выборки: (143322,), тестовой выборки: (15925,)\n"
          ]
        }
      ],
      "source": [
        "# сохранение входных признаков в переменной Х, а целевого в у\n",
        "X = df['prepared']\n",
        "y = df['toxic']\n",
        "\n",
        "# задание константных значений\n",
        "RANDOM_STATE = 42\n",
        "TEST_SIZE = 0.1\n",
        "\n",
        "# разделение на тренировочную и тестовую выборки\n",
        "X_train, X_test, y_train, y_test = train_test_split(\n",
        "    X,\n",
        "    y,\n",
        "    test_size = TEST_SIZE,\n",
        "    random_state = RANDOM_STATE,\n",
        "    stratify=y\n",
        ")\n",
        "\n",
        "print(f\"Размер обучающей выборки: {X_train.shape}, тестовой выборки: {X_test.shape}\")"
      ]
    },
    {
      "cell_type": "markdown",
      "metadata": {
        "id": "LSeBLnASNzsq"
      },
      "source": [
        "Очистим от стоп-слов и создадим матрицу cо значениями TF-IDF по корпусу текстов."
      ]
    },
    {
      "cell_type": "code",
      "execution_count": null,
      "metadata": {
        "id": "fzDr8czzNzsr",
        "outputId": "a364b552-a823-43e5-ad22-2e1460c45806"
      },
      "outputs": [
        {
          "name": "stderr",
          "output_type": "stream",
          "text": [
            "[nltk_data] Downloading package stopwords to /home/jovyan/nltk_data...\n",
            "[nltk_data]   Package stopwords is already up-to-date!\n"
          ]
        }
      ],
      "source": [
        "# загрузка списка стоп-слов\n",
        "nltk.download('stopwords')\n",
        "stopwords = set(nltk_stopwords.words('english'))"
      ]
    },
    {
      "cell_type": "markdown",
      "metadata": {
        "id": "0ZuWi-PXNzss"
      },
      "source": [
        "<font size=\"4\"><b>Выводы по этапу подготовки текста:</b></font>\n",
        "\n",
        "- провели предобработку текста: очистили от неинформативных символов, токенизировали и лемматизировали.\n",
        "- разделили данные на обучающую и тестовую выборку в соотношении train/test 3:1 с учетом стратификации по целевому признаку.\n",
        "- создали корпусы текстов для обучающей и тестовой выборки,\n",
        "- очистили их от стоп-слов,\n",
        "- создали матрицу cо значениями TF-IDF по корпусу текстов."
      ]
    },
    {
      "cell_type": "markdown",
      "metadata": {
        "id": "Pna6Yf_XNzss"
      },
      "source": [
        "## Обучение моделей\n",
        "\n",
        "### Moдель LogisticRegression"
      ]
    },
    {
      "cell_type": "markdown",
      "metadata": {
        "id": "FjhSEepWNzsu"
      },
      "source": [
        "Собрерём расчет TF-IDF и GridSearch в пайплайн. Применим функцию с пайплайном ко всем моделям."
      ]
    },
    {
      "cell_type": "code",
      "execution_count": null,
      "metadata": {
        "id": "b7cPe_Q2Nzsu"
      },
      "outputs": [],
      "source": [
        "# создание пустого списка для добавления лучших метрик по всем лучшим моделям\n",
        "f1_cv = []\n",
        "\n",
        "def prep_model_pipe(model, params):\n",
        "    '''\n",
        "    Функция, которая создает матрицу признаков TF-IDF, производит подбор гиперпараметров и\n",
        "    возвращает лучшую модель\n",
        "    '''\n",
        "\n",
        "    pipeline = Pipeline([\n",
        "        ('tfidf', TfidfVectorizer(min_df=50, stop_words=list(stopwords))),\n",
        "        ('clf', model),\n",
        "    ])\n",
        "\n",
        "    gs = GridSearchCV(\n",
        "        pipeline,\n",
        "        param_grid=params,\n",
        "        cv=3,\n",
        "        scoring='f1',\n",
        "        n_jobs=-1\n",
        "    )\n",
        "\n",
        "    # запуск поискa  лучших гиперпараметров\n",
        "    gs.fit(X_train, y_train)\n",
        "\n",
        "    print('Параметры лучшей модели:\\n\\n', gs.best_estimator_)\n",
        "\n",
        "    f1_cv.append(gs.best_score_)\n",
        "\n",
        "    return gs.best_estimator_"
      ]
    },
    {
      "cell_type": "code",
      "execution_count": null,
      "metadata": {
        "id": "68kQxoqYNzsv",
        "outputId": "b82bd3e0-f51b-4a7e-8b88-7afdeb82b97b"
      },
      "outputs": [
        {
          "name": "stdout",
          "output_type": "stream",
          "text": [
            "Параметры лучшей модели:\n",
            "\n",
            " Pipeline(steps=[('tfidf',\n",
            "                 TfidfVectorizer(min_df=50,\n",
            "                                 stop_words=['just', 'my', \"doesn't\", \"it's\",\n",
            "                                             'me', 'further', 'by', 'nor',\n",
            "                                             'weren', 'do', 'during', 'am',\n",
            "                                             \"isn't\", \"you're\", 'theirs',\n",
            "                                             'hasn', 'as', 'can', 'over',\n",
            "                                             'other', 'between', 'through', 's',\n",
            "                                             'into', 'i', \"that'll\", 'couldn',\n",
            "                                             'under', 'when', 'most', ...])),\n",
            "                ('clf',\n",
            "                 LogisticRegression(C=13, max_iter=200, random_state=42,\n",
            "                                    solver='liblinear'))])\n"
          ]
        }
      ],
      "source": [
        "# словарь с параметрами для LogisticRegression\n",
        "lr_params = {'clf__C': range(1, 15, 3)}\n",
        "\n",
        "# инициализируем модель LogisticRegression\n",
        "model_lr = LogisticRegression(random_state=RANDOM_STATE, solver='liblinear', max_iter=200)\n",
        "\n",
        "# вызов функции с расчетом матрицы признаков и подбором гиперпараметров для LogisticRegression\n",
        "model_lr = prep_model_pipe(model_lr, lr_params)"
      ]
    },
    {
      "cell_type": "markdown",
      "metadata": {
        "id": "KK1P5QNgNzsv"
      },
      "source": [
        "### Moдель RandomForestClassifier"
      ]
    },
    {
      "cell_type": "code",
      "execution_count": null,
      "metadata": {
        "id": "5vuDNQKENzsw",
        "outputId": "e9aef69b-a7f6-4be9-ca96-7a15ce51d41f"
      },
      "outputs": [
        {
          "name": "stdout",
          "output_type": "stream",
          "text": [
            "Параметры лучшей модели:\n",
            "\n",
            " Pipeline(steps=[('tfidf',\n",
            "                 TfidfVectorizer(min_df=50,\n",
            "                                 stop_words=['just', 'my', \"doesn't\", \"it's\",\n",
            "                                             'me', 'further', 'by', 'nor',\n",
            "                                             'weren', 'do', 'during', 'am',\n",
            "                                             \"isn't\", \"you're\", 'theirs',\n",
            "                                             'hasn', 'as', 'can', 'over',\n",
            "                                             'other', 'between', 'through', 's',\n",
            "                                             'into', 'i', \"that'll\", 'couldn',\n",
            "                                             'under', 'when', 'most', ...])),\n",
            "                ('clf',\n",
            "                 RandomForestClassifier(max_depth=20, min_samples_leaf=8,\n",
            "                                        n_estimators=150, random_state=42))])\n"
          ]
        }
      ],
      "source": [
        "# словарь с параметрами для RandomForestClassifier\n",
        "rfc_params = {'clf__n_estimators': [150],\n",
        "               'clf__max_depth': [15, 20],\n",
        "               'clf__min_samples_leaf': [8]}\n",
        "\n",
        "# инициализируем модель RandomForestClassifier\n",
        "rfc = RandomForestClassifier(random_state=RANDOM_STATE)\n",
        "\n",
        "# вызов функции с расчетом матрицы признаков и подбором гиперпараметров для RandomForestClassifier\n",
        "model_rfc = prep_model_pipe(rfc, rfc_params)"
      ]
    },
    {
      "cell_type": "markdown",
      "metadata": {
        "id": "MfrG2QWPNzsx"
      },
      "source": [
        "### Moдель SGDClassifier"
      ]
    },
    {
      "cell_type": "code",
      "execution_count": null,
      "metadata": {
        "id": "Uy7jscA9Nzsy",
        "outputId": "9bd46aa5-9097-474a-99cd-d404def08f03"
      },
      "outputs": [
        {
          "name": "stderr",
          "output_type": "stream",
          "text": [
            "/opt/conda/lib/python3.9/site-packages/sklearn/linear_model/_stochastic_gradient.py:574: ConvergenceWarning: Maximum number of iteration reached before convergence. Consider increasing max_iter to improve the fit.\n",
            "  warnings.warn(\"Maximum number of iteration reached before \"\n",
            "/opt/conda/lib/python3.9/site-packages/sklearn/linear_model/_stochastic_gradient.py:574: ConvergenceWarning: Maximum number of iteration reached before convergence. Consider increasing max_iter to improve the fit.\n",
            "  warnings.warn(\"Maximum number of iteration reached before \"\n",
            "/opt/conda/lib/python3.9/site-packages/sklearn/linear_model/_stochastic_gradient.py:574: ConvergenceWarning: Maximum number of iteration reached before convergence. Consider increasing max_iter to improve the fit.\n",
            "  warnings.warn(\"Maximum number of iteration reached before \"\n",
            "/opt/conda/lib/python3.9/site-packages/sklearn/linear_model/_stochastic_gradient.py:574: ConvergenceWarning: Maximum number of iteration reached before convergence. Consider increasing max_iter to improve the fit.\n",
            "  warnings.warn(\"Maximum number of iteration reached before \"\n",
            "/opt/conda/lib/python3.9/site-packages/sklearn/linear_model/_stochastic_gradient.py:574: ConvergenceWarning: Maximum number of iteration reached before convergence. Consider increasing max_iter to improve the fit.\n",
            "  warnings.warn(\"Maximum number of iteration reached before \"\n",
            "/opt/conda/lib/python3.9/site-packages/sklearn/linear_model/_stochastic_gradient.py:574: ConvergenceWarning: Maximum number of iteration reached before convergence. Consider increasing max_iter to improve the fit.\n",
            "  warnings.warn(\"Maximum number of iteration reached before \"\n"
          ]
        },
        {
          "name": "stdout",
          "output_type": "stream",
          "text": [
            "Параметры лучшей модели:\n",
            "\n",
            " Pipeline(steps=[('tfidf',\n",
            "                 TfidfVectorizer(min_df=50,\n",
            "                                 stop_words=['just', 'my', \"doesn't\", \"it's\",\n",
            "                                             'me', 'further', 'by', 'nor',\n",
            "                                             'weren', 'do', 'during', 'am',\n",
            "                                             \"isn't\", \"you're\", 'theirs',\n",
            "                                             'hasn', 'as', 'can', 'over',\n",
            "                                             'other', 'between', 'through', 's',\n",
            "                                             'into', 'i', \"that'll\", 'couldn',\n",
            "                                             'under', 'when', 'most', ...])),\n",
            "                ('clf', SGDClassifier(alpha=1e-05, max_iter=20))])\n"
          ]
        }
      ],
      "source": [
        "# словарь с параметрами для SGDClassifier\n",
        "sgd_params = {'clf__max_iter': [20],\n",
        "              'clf__alpha': [0.00001, 0.0000001],\n",
        "              'clf__penalty': ['l2', 'elasticnet']}\n",
        "\n",
        "# инициализируем модель SGDClassifier\n",
        "sgdc = SGDClassifier()\n",
        "\n",
        "# вызов функции с расчетом матрицы признаков и подбором гиперпараметров для RandomForestClassifier\n",
        "model_sgdc = prep_model_pipe(sgdc, sgd_params)"
      ]
    },
    {
      "cell_type": "markdown",
      "metadata": {
        "id": "a30dchqONzsy"
      },
      "source": [
        "## Тестирование\n",
        "\n",
        "Соберем все метрики f1, оцененные на кросс-валидации по всем моделям в датафрейм."
      ]
    },
    {
      "cell_type": "code",
      "execution_count": null,
      "metadata": {
        "id": "Z6vo3BtaNzsy",
        "outputId": "1a188c7a-8331-42ef-aaca-4a735516ba37"
      },
      "outputs": [
        {
          "data": {
            "text/html": [
              "<div>\n",
              "<style scoped>\n",
              "    .dataframe tbody tr th:only-of-type {\n",
              "        vertical-align: middle;\n",
              "    }\n",
              "\n",
              "    .dataframe tbody tr th {\n",
              "        vertical-align: top;\n",
              "    }\n",
              "\n",
              "    .dataframe thead th {\n",
              "        text-align: right;\n",
              "    }\n",
              "</style>\n",
              "<table border=\"1\" class=\"dataframe\">\n",
              "  <thead>\n",
              "    <tr style=\"text-align: right;\">\n",
              "      <th></th>\n",
              "      <th>Модель</th>\n",
              "      <th>f1 на cv</th>\n",
              "    </tr>\n",
              "  </thead>\n",
              "  <tbody>\n",
              "    <tr>\n",
              "      <th>0</th>\n",
              "      <td>LogisticRegression</td>\n",
              "      <td>0.764044</td>\n",
              "    </tr>\n",
              "    <tr>\n",
              "      <th>1</th>\n",
              "      <td>RandomForestClassifier</td>\n",
              "      <td>0.181460</td>\n",
              "    </tr>\n",
              "    <tr>\n",
              "      <th>2</th>\n",
              "      <td>SGDClassifier</td>\n",
              "      <td>0.758202</td>\n",
              "    </tr>\n",
              "  </tbody>\n",
              "</table>\n",
              "</div>"
            ],
            "text/plain": [
              "                   Модель  f1 на cv\n",
              "0      LogisticRegression  0.764044\n",
              "1  RandomForestClassifier  0.181460\n",
              "2           SGDClassifier  0.758202"
            ]
          },
          "execution_count": 24,
          "metadata": {},
          "output_type": "execute_result"
        }
      ],
      "source": [
        "result = pd.DataFrame(\n",
        "    {\n",
        "    \"Модель\": ['LogisticRegression', 'RandomForestClassifier', 'SGDClassifier'],\n",
        "    \"f1 на cv\": f1_cv\n",
        "    }\n",
        ")\n",
        "\n",
        "result"
      ]
    },
    {
      "cell_type": "markdown",
      "metadata": {
        "id": "OifwVOAZNzsz"
      },
      "source": [
        "Модель логистической регрессии показала наилучшую метрику f1 на кросс-валидации равную 0.764. Модели LogisticRegression и SGDClassifier проходят по критерию значение метрики качества F1 не меньше 0.75. Т.к. в продакшн можно взять только одну модель, выберем логистическую регрессию, показавшую чуть лучшую метрику. Ее и будем использовать для получения предсказаний на тестовых данных."
      ]
    },
    {
      "cell_type": "code",
      "execution_count": null,
      "metadata": {
        "id": "tf8ihxryNzsz",
        "outputId": "4742a048-770c-4d5f-ef86-4462975cfb18"
      },
      "outputs": [
        {
          "name": "stdout",
          "output_type": "stream",
          "text": [
            "Метрика на тестовых данных F1: 0.77\n"
          ]
        }
      ],
      "source": [
        "# получение прогнозных значений на тестовых данных\n",
        "y_pred_lr = model_lr.predict(X_test)\n",
        "\n",
        "# расчет F1 для модели LogisticRegression\n",
        "f1_test = f1_score(y_test, y_pred_lr)\n",
        "\n",
        "print(f\"Метрика на тестовых данных F1: {f1_score(y_test, y_pred_lr):.2f}\")"
      ]
    },
    {
      "cell_type": "markdown",
      "metadata": {
        "id": "dPbPor-ONzs0"
      },
      "source": [
        "F1 метрика на тестовых данных оказалась даже чуть лучше метрики на кросс-валидации и равна 0.77.\n",
        "\n",
        "Построим матрицу ошибок и узнаем ошибки какого рода чаще совершает модель, для того чтобы понять в какую сторону еще можно улучшить модель."
      ]
    },
    {
      "cell_type": "code",
      "execution_count": null,
      "metadata": {
        "id": "IXal678zNzs0",
        "outputId": "e1079adf-2917-4046-839f-7c711d97df11"
      },
      "outputs": [
        {
          "data": {
            "image/png": "[encoded data removed]",
            "text/plain": [
              "<Figure size 720x360 with 2 Axes>"
            ]
          },
          "metadata": {
            "image/png": {
              "height": 391,
              "width": 592
            },
            "needs_background": "light"
          },
          "output_type": "display_data"
        }
      ],
      "source": [
        "# расчет матрицы ошибок\n",
        "cm = confusion_matrix(y_test, y_pred_lr)\n",
        "\n",
        "# визуализация матрицы ошибок с помощью тепловой карты\n",
        "fig, ax = plt.subplots(figsize=(10, 5))\n",
        "ax = sns.heatmap(cm, annot=True, cmap='Blues_r', annot_kws={\"size\":14}, fmt=\".0f\")\n",
        "\n",
        "ax.set_title('Матрица ошибок\\n\\n');\n",
        "ax.set_xlabel('\\nПрогнозные значения')\n",
        "ax.set_ylabel('Истинные значения ')\n",
        "\n",
        "ax.xaxis.set_ticklabels(['положительный', 'токсичный'])\n",
        "ax.yaxis.set_ticklabels(['положительный', 'токсичный'])\n",
        "\n",
        "plt.show()"
      ]
    },
    {
      "cell_type": "markdown",
      "metadata": {
        "id": "_7qntJTUNzs0"
      },
      "source": [
        "Как видно из матрицы ошибок модель чаще совершает ошибки первого рода, т.е. классифицирует токсичные комментарии как положительные (492 случаев). И в 3 раза меньше ошибок 2го рода (185 случаев), т.е. классифицирует положительные комментарии как токсичные. Вероятно, это связано с дисбалансом классов. Т.к. положительных комментариев (класс \"0\") больше, то модель чаще ее присваивает, в том числе и ошибочно. Таким образом, зоной роста является работа над уменьшением влияния дисбаланса классов.\n",
        "\n",
        "Проверим также метрику F1 на дамми модели."
      ]
    },
    {
      "cell_type": "code",
      "execution_count": null,
      "metadata": {
        "id": "Fd4m56KtNzs1",
        "outputId": "60648108-67ca-4553-b1c7-b7a8b2c301aa"
      },
      "outputs": [
        {
          "name": "stdout",
          "output_type": "stream",
          "text": [
            "Метрика F1 на тестовой выборке дамми-модели:  0.17\n"
          ]
        }
      ],
      "source": [
        "# создание и обучение модели DummyClassifier\n",
        "dummy_model = DummyClassifier(strategy='uniform')\n",
        "dummy_model.fit(X_train, y_train)\n",
        "\n",
        "# предсказание на тестовых данных\n",
        "dummy_model_preds = dummy_model.predict(X_test)\n",
        "\n",
        "# расчет F1 для модели DummyClassifier\n",
        "f1_dummy_test = f1_score(y_test, dummy_model_preds)\n",
        "print(f'Метрика F1 на тестовой выборке дамми-модели:  {f1_dummy_test:.2f}')"
      ]
    },
    {
      "cell_type": "markdown",
      "metadata": {
        "id": "gPxZsICLNzs1"
      },
      "source": [
        "Метрика на дамми модели оказалась существенно хуже выбранной модели."
      ]
    },
    {
      "cell_type": "markdown",
      "metadata": {
        "id": "ryPM8NK3Nzs2"
      },
      "source": [
        "## Выводы"
      ]
    },
    {
      "cell_type": "markdown",
      "metadata": {
        "id": "jp6_H3OuNzs2"
      },
      "source": [
        "В ходе данного проекта были изучены данные интернет-магазина «Викишоп», относящиеся к работе нового сервиса, в котором пользователи могут редактировать и дополнять описания товаров, как в вики-сообществах. Задачей проекта была разработка модели машинного обучения для поиска токсичных комментариев, которые необходимо отправлять на модерацию.\n",
        "\n",
        "В ходе **этапа обзора и первичной обработки данных** было выяснено, что:\n",
        "- присутствует дисбаланс классов в целевом признаке: позитивных отзывов (класс \"0\") в 8.8 раз больше, чем токсичных (класс \"1\").\n",
        "- После приведения данных в столбце `text` к нижнему регистру обнаружено 45 дублирующихся строчек, которые были удалены.\n",
        "\n",
        "На этапе **подготовки текста**:\n",
        "\n",
        "- провели предобработку текста: очистили от неинформативных символов, токенизировали и лемматизировали.\n",
        "- разделили данные на обучающую и тестовую выборку в соотношении train/test 3:1 с учетом стратификации по целевому признаку.\n",
        "- создали корпусы текстов для обучающей и тестовой выборки,\n",
        "- очистили их от стоп-слов,\n",
        "- создали матрицу cо значениями TF-IDF по корпусу текстов.\n",
        "\n",
        "На этапе **обучения** были обучены 3 модели: LogisticRegression, RandomForestClassifier и SGDClassifier. В качестве метрики качества использовалась F1-мера, т.к. в данной задаче важны ошибки и 1го и 2го родов.\n",
        "\n",
        "На этапе **тестирования** модель логистической регрессии показала наилучшую метрику f1 на кросс-валидации равную 0.76. Модели LogisticRegression и SGDClassifier проходят по критерию значение метрики качества F1 не меньше 0.75. Т.к. в продакшн можно взять только одну модель, выберем логистическую регрессию, показавшую чуть лучшую метрику.\n",
        "\n",
        "Параметры лучшей модели: LogisticRegression(C=13, max_iter=200, random_state=42, solver='liblinear').\n",
        "\n",
        "F1 метрика на тестовых данных оказалась близка метрике на кросс-валидации и равна 0.77.\n",
        "\n",
        "По матрице ошибок выяснилось, что модель чаще совершает ошибки первого рода, т.е. классифицирует токсичные комментарии как положительные (492 случаев). И в 3 раза меньше ошибок 2го рода, т.е. классифицирует положительные комментарии как токсичные. Вероятно, это связано с дисбалансом классов. Т.к. положительных комментариев (класс \"0\") больше, то модель чаще ее присваивает, в том числе и ошибочно. Таким образом, зоной роста является работа над уменьшением влияния дисбаланса классов."
      ]
    }
  ],
  "metadata": {
    "ExecuteTimeLog": [
      {
        "duration": 50,
        "start_time": "2024-02-07T07:31:19.624Z"
      },
      {
        "duration": 3569,
        "start_time": "2024-02-07T07:31:31.031Z"
      },
      {
        "duration": 1837,
        "start_time": "2024-02-07T07:31:34.603Z"
      },
      {
        "duration": 13,
        "start_time": "2024-02-07T07:31:36.442Z"
      },
      {
        "duration": 2419,
        "start_time": "2024-02-07T07:31:36.457Z"
      },
      {
        "duration": 128,
        "start_time": "2024-02-07T07:31:38.877Z"
      },
      {
        "duration": 958,
        "start_time": "2024-02-07T07:32:08.361Z"
      },
      {
        "duration": 915,
        "start_time": "2024-02-07T07:32:16.253Z"
      },
      {
        "duration": 917,
        "start_time": "2024-02-07T07:33:02.549Z"
      },
      {
        "duration": 956,
        "start_time": "2024-02-07T07:33:24.285Z"
      },
      {
        "duration": 6,
        "start_time": "2024-02-07T07:35:50.669Z"
      },
      {
        "duration": 898,
        "start_time": "2024-02-07T07:36:03.677Z"
      },
      {
        "duration": 11,
        "start_time": "2024-02-07T07:36:13.060Z"
      },
      {
        "duration": 2644,
        "start_time": "2024-02-07T07:37:10.291Z"
      },
      {
        "duration": 1565,
        "start_time": "2024-02-07T07:37:12.938Z"
      },
      {
        "duration": 26,
        "start_time": "2024-02-07T07:37:14.505Z"
      },
      {
        "duration": 1066,
        "start_time": "2024-02-07T07:37:14.534Z"
      },
      {
        "duration": 14,
        "start_time": "2024-02-07T07:37:15.601Z"
      },
      {
        "duration": 33,
        "start_time": "2024-02-07T07:38:37.020Z"
      },
      {
        "duration": 6,
        "start_time": "2024-02-07T07:42:27.367Z"
      },
      {
        "duration": 238,
        "start_time": "2024-02-07T07:47:56.064Z"
      },
      {
        "duration": 257,
        "start_time": "2024-02-07T07:49:48.992Z"
      },
      {
        "duration": 7,
        "start_time": "2024-02-07T07:53:28.035Z"
      },
      {
        "duration": 210,
        "start_time": "2024-02-07T07:54:25.577Z"
      },
      {
        "duration": 234,
        "start_time": "2024-02-07T08:01:39.022Z"
      },
      {
        "duration": 17,
        "start_time": "2024-02-07T08:01:57.872Z"
      },
      {
        "duration": 77,
        "start_time": "2024-02-07T08:02:36.883Z"
      },
      {
        "duration": 234,
        "start_time": "2024-02-07T08:05:11.453Z"
      },
      {
        "duration": 316,
        "start_time": "2024-02-07T08:06:54.749Z"
      },
      {
        "duration": 500,
        "start_time": "2024-02-07T08:07:07.068Z"
      },
      {
        "duration": 213,
        "start_time": "2024-02-07T08:12:03.128Z"
      },
      {
        "duration": 403,
        "start_time": "2024-02-07T08:12:31.062Z"
      },
      {
        "duration": 1315,
        "start_time": "2024-02-07T08:59:06.427Z"
      },
      {
        "duration": 32,
        "start_time": "2024-02-07T09:17:59.457Z"
      },
      {
        "duration": 5,
        "start_time": "2024-02-07T09:18:00.969Z"
      },
      {
        "duration": 3,
        "start_time": "2024-02-07T09:18:01.890Z"
      },
      {
        "duration": 755,
        "start_time": "2024-02-07T09:18:04.000Z"
      },
      {
        "duration": 711,
        "start_time": "2024-02-07T09:18:59.874Z"
      },
      {
        "duration": 735,
        "start_time": "2024-02-07T09:19:48.562Z"
      },
      {
        "duration": 747,
        "start_time": "2024-02-07T09:20:50.328Z"
      },
      {
        "duration": 773,
        "start_time": "2024-02-07T09:22:29.715Z"
      },
      {
        "duration": 2988,
        "start_time": "2024-02-07T10:33:18.706Z"
      },
      {
        "duration": 13,
        "start_time": "2024-02-07T10:33:21.697Z"
      },
      {
        "duration": 190,
        "start_time": "2024-02-07T10:33:21.711Z"
      },
      {
        "duration": 0,
        "start_time": "2024-02-07T10:33:21.903Z"
      },
      {
        "duration": 0,
        "start_time": "2024-02-07T10:33:21.904Z"
      },
      {
        "duration": 0,
        "start_time": "2024-02-07T10:33:21.905Z"
      },
      {
        "duration": 0,
        "start_time": "2024-02-07T10:33:21.907Z"
      },
      {
        "duration": 0,
        "start_time": "2024-02-07T10:33:21.908Z"
      },
      {
        "duration": 0,
        "start_time": "2024-02-07T10:33:21.909Z"
      },
      {
        "duration": 0,
        "start_time": "2024-02-07T10:33:21.923Z"
      },
      {
        "duration": 0,
        "start_time": "2024-02-07T10:33:21.925Z"
      },
      {
        "duration": 0,
        "start_time": "2024-02-07T10:33:21.927Z"
      },
      {
        "duration": 0,
        "start_time": "2024-02-07T10:33:21.928Z"
      },
      {
        "duration": 2936,
        "start_time": "2024-02-07T10:34:14.221Z"
      },
      {
        "duration": 13,
        "start_time": "2024-02-07T10:34:17.159Z"
      },
      {
        "duration": 997,
        "start_time": "2024-02-07T10:34:17.174Z"
      },
      {
        "duration": 16,
        "start_time": "2024-02-07T10:34:18.173Z"
      },
      {
        "duration": 47,
        "start_time": "2024-02-07T10:34:18.191Z"
      },
      {
        "duration": 218,
        "start_time": "2024-02-07T10:34:18.240Z"
      },
      {
        "duration": 546,
        "start_time": "2024-02-07T10:34:18.460Z"
      },
      {
        "duration": 443,
        "start_time": "2024-02-07T10:34:19.009Z"
      },
      {
        "duration": 3,
        "start_time": "2024-02-07T10:34:19.454Z"
      },
      {
        "duration": 29,
        "start_time": "2024-02-07T10:34:19.459Z"
      },
      {
        "duration": 19,
        "start_time": "2024-02-07T10:34:19.490Z"
      },
      {
        "duration": 791,
        "start_time": "2024-02-07T10:34:19.511Z"
      },
      {
        "duration": 490,
        "start_time": "2024-02-07T10:34:20.304Z"
      },
      {
        "duration": 23,
        "start_time": "2024-02-07T10:39:10.994Z"
      },
      {
        "duration": 83,
        "start_time": "2024-02-07T10:41:54.365Z"
      },
      {
        "duration": 25,
        "start_time": "2024-02-07T10:42:04.644Z"
      },
      {
        "duration": 56303,
        "start_time": "2024-02-07T10:45:38.472Z"
      },
      {
        "duration": 2983,
        "start_time": "2024-02-07T10:46:42.055Z"
      },
      {
        "duration": 17,
        "start_time": "2024-02-07T10:46:45.040Z"
      },
      {
        "duration": 1051,
        "start_time": "2024-02-07T10:46:45.060Z"
      },
      {
        "duration": 19,
        "start_time": "2024-02-07T10:46:46.114Z"
      },
      {
        "duration": 60,
        "start_time": "2024-02-07T10:46:46.135Z"
      },
      {
        "duration": 242,
        "start_time": "2024-02-07T10:46:46.198Z"
      },
      {
        "duration": 558,
        "start_time": "2024-02-07T10:46:46.442Z"
      },
      {
        "duration": 432,
        "start_time": "2024-02-07T10:46:47.002Z"
      },
      {
        "duration": 3,
        "start_time": "2024-02-07T10:46:47.435Z"
      },
      {
        "duration": 19,
        "start_time": "2024-02-07T10:46:47.440Z"
      },
      {
        "duration": 66,
        "start_time": "2024-02-07T10:46:47.461Z"
      },
      {
        "duration": 159409,
        "start_time": "2024-02-07T10:46:47.529Z"
      },
      {
        "duration": 0,
        "start_time": "2024-02-07T10:49:26.941Z"
      },
      {
        "duration": 0,
        "start_time": "2024-02-07T10:49:26.943Z"
      },
      {
        "duration": 167505,
        "start_time": "2024-02-07T10:49:45.544Z"
      },
      {
        "duration": 1440,
        "start_time": "2024-02-07T11:08:02.393Z"
      },
      {
        "duration": 12,
        "start_time": "2024-02-07T11:08:12.474Z"
      },
      {
        "duration": 5,
        "start_time": "2024-02-07T11:08:56.405Z"
      },
      {
        "duration": 14,
        "start_time": "2024-02-07T11:08:56.413Z"
      },
      {
        "duration": 923,
        "start_time": "2024-02-07T11:08:56.429Z"
      },
      {
        "duration": 10,
        "start_time": "2024-02-07T11:08:57.355Z"
      },
      {
        "duration": 43,
        "start_time": "2024-02-07T11:08:57.367Z"
      },
      {
        "duration": 218,
        "start_time": "2024-02-07T11:08:57.412Z"
      },
      {
        "duration": 508,
        "start_time": "2024-02-07T11:08:57.631Z"
      },
      {
        "duration": 397,
        "start_time": "2024-02-07T11:08:58.140Z"
      },
      {
        "duration": 3,
        "start_time": "2024-02-07T11:08:58.538Z"
      },
      {
        "duration": 40348,
        "start_time": "2024-02-07T11:08:58.544Z"
      },
      {
        "duration": 10,
        "start_time": "2024-02-07T11:09:38.894Z"
      },
      {
        "duration": 5,
        "start_time": "2024-02-07T11:12:50.581Z"
      },
      {
        "duration": 53,
        "start_time": "2024-02-07T11:12:50.588Z"
      },
      {
        "duration": 1057,
        "start_time": "2024-02-07T11:12:50.643Z"
      },
      {
        "duration": 12,
        "start_time": "2024-02-07T11:12:51.702Z"
      },
      {
        "duration": 45,
        "start_time": "2024-02-07T11:12:51.716Z"
      },
      {
        "duration": 213,
        "start_time": "2024-02-07T11:12:51.763Z"
      },
      {
        "duration": 549,
        "start_time": "2024-02-07T11:12:51.978Z"
      },
      {
        "duration": 422,
        "start_time": "2024-02-07T11:12:52.529Z"
      },
      {
        "duration": 2,
        "start_time": "2024-02-07T11:12:52.953Z"
      },
      {
        "duration": 7,
        "start_time": "2024-02-07T11:12:52.959Z"
      },
      {
        "duration": 3,
        "start_time": "2024-02-07T11:12:52.968Z"
      },
      {
        "duration": 15,
        "start_time": "2024-02-07T11:12:52.973Z"
      },
      {
        "duration": 11,
        "start_time": "2024-02-07T11:12:52.990Z"
      },
      {
        "duration": 6,
        "start_time": "2024-02-07T11:12:53.003Z"
      },
      {
        "duration": 878,
        "start_time": "2024-02-07T11:12:53.010Z"
      },
      {
        "duration": 845,
        "start_time": "2024-02-07T11:13:30.546Z"
      },
      {
        "duration": 3046,
        "start_time": "2024-02-07T11:17:23.536Z"
      },
      {
        "duration": 13,
        "start_time": "2024-02-07T11:17:26.585Z"
      },
      {
        "duration": 963,
        "start_time": "2024-02-07T11:17:26.600Z"
      },
      {
        "duration": 16,
        "start_time": "2024-02-07T11:17:27.565Z"
      },
      {
        "duration": 47,
        "start_time": "2024-02-07T11:17:27.583Z"
      },
      {
        "duration": 221,
        "start_time": "2024-02-07T11:17:27.631Z"
      },
      {
        "duration": 551,
        "start_time": "2024-02-07T11:17:27.854Z"
      },
      {
        "duration": 422,
        "start_time": "2024-02-07T11:17:28.407Z"
      },
      {
        "duration": 2,
        "start_time": "2024-02-07T11:17:28.831Z"
      },
      {
        "duration": 31,
        "start_time": "2024-02-07T11:17:28.836Z"
      },
      {
        "duration": 36374,
        "start_time": "2024-02-07T11:17:28.869Z"
      },
      {
        "duration": 3,
        "start_time": "2024-02-07T11:18:05.244Z"
      },
      {
        "duration": 34,
        "start_time": "2024-02-07T11:18:05.249Z"
      },
      {
        "duration": 15,
        "start_time": "2024-02-07T11:18:05.285Z"
      },
      {
        "duration": 14,
        "start_time": "2024-02-07T11:18:05.302Z"
      },
      {
        "duration": 29,
        "start_time": "2024-02-07T11:18:05.318Z"
      },
      {
        "duration": 5,
        "start_time": "2024-02-07T11:18:05.349Z"
      },
      {
        "duration": 9,
        "start_time": "2024-02-07T11:18:11.387Z"
      },
      {
        "duration": 34926,
        "start_time": "2024-02-07T11:42:39.399Z"
      },
      {
        "duration": 8,
        "start_time": "2024-02-07T11:43:14.327Z"
      },
      {
        "duration": 3254,
        "start_time": "2024-02-08T06:23:31.950Z"
      },
      {
        "duration": 14,
        "start_time": "2024-02-08T06:23:35.206Z"
      },
      {
        "duration": 3353,
        "start_time": "2024-02-08T06:23:35.221Z"
      },
      {
        "duration": 14,
        "start_time": "2024-02-08T06:23:38.576Z"
      },
      {
        "duration": 30,
        "start_time": "2024-02-08T06:23:38.592Z"
      },
      {
        "duration": 305,
        "start_time": "2024-02-08T06:23:38.623Z"
      },
      {
        "duration": 482,
        "start_time": "2024-02-08T06:23:38.929Z"
      },
      {
        "duration": 389,
        "start_time": "2024-02-08T06:23:39.412Z"
      },
      {
        "duration": 2,
        "start_time": "2024-02-08T06:23:39.802Z"
      },
      {
        "duration": 10,
        "start_time": "2024-02-08T06:23:39.806Z"
      },
      {
        "duration": 31906,
        "start_time": "2024-02-08T06:23:39.818Z"
      },
      {
        "duration": 7,
        "start_time": "2024-02-08T06:24:11.726Z"
      },
      {
        "duration": 10,
        "start_time": "2024-02-08T06:24:11.734Z"
      },
      {
        "duration": 19,
        "start_time": "2024-02-08T06:24:11.745Z"
      },
      {
        "duration": 12,
        "start_time": "2024-02-08T06:24:11.766Z"
      },
      {
        "duration": 5,
        "start_time": "2024-02-08T06:24:11.779Z"
      },
      {
        "duration": 10,
        "start_time": "2024-02-08T06:24:11.785Z"
      },
      {
        "duration": 2863,
        "start_time": "2024-02-08T06:29:52.860Z"
      },
      {
        "duration": 11,
        "start_time": "2024-02-08T06:29:55.725Z"
      },
      {
        "duration": 842,
        "start_time": "2024-02-08T06:29:55.737Z"
      },
      {
        "duration": 13,
        "start_time": "2024-02-08T06:29:56.581Z"
      },
      {
        "duration": 32,
        "start_time": "2024-02-08T06:29:56.596Z"
      },
      {
        "duration": 286,
        "start_time": "2024-02-08T06:29:56.630Z"
      },
      {
        "duration": 472,
        "start_time": "2024-02-08T06:29:56.918Z"
      },
      {
        "duration": 398,
        "start_time": "2024-02-08T06:29:57.392Z"
      },
      {
        "duration": 3,
        "start_time": "2024-02-08T06:29:57.791Z"
      },
      {
        "duration": 12,
        "start_time": "2024-02-08T06:29:57.797Z"
      },
      {
        "duration": 6,
        "start_time": "2024-02-08T06:29:57.810Z"
      },
      {
        "duration": 5,
        "start_time": "2024-02-08T06:29:57.818Z"
      },
      {
        "duration": 4,
        "start_time": "2024-02-08T06:29:57.825Z"
      },
      {
        "duration": 4,
        "start_time": "2024-02-08T06:29:57.830Z"
      },
      {
        "duration": 11,
        "start_time": "2024-02-08T06:29:57.835Z"
      },
      {
        "duration": 8,
        "start_time": "2024-02-08T06:29:57.847Z"
      },
      {
        "duration": 2342,
        "start_time": "2024-02-08T06:29:57.857Z"
      },
      {
        "duration": 271650,
        "start_time": "2024-02-08T06:30:00.201Z"
      },
      {
        "duration": 0,
        "start_time": "2024-02-08T06:34:31.853Z"
      },
      {
        "duration": 6,
        "start_time": "2024-02-08T06:38:33.870Z"
      },
      {
        "duration": 11,
        "start_time": "2024-02-08T06:38:33.878Z"
      },
      {
        "duration": 1128,
        "start_time": "2024-02-08T06:38:33.891Z"
      },
      {
        "duration": 12,
        "start_time": "2024-02-08T06:38:35.020Z"
      },
      {
        "duration": 37,
        "start_time": "2024-02-08T06:38:35.034Z"
      },
      {
        "duration": 186,
        "start_time": "2024-02-08T06:38:35.072Z"
      },
      {
        "duration": 459,
        "start_time": "2024-02-08T06:38:35.260Z"
      },
      {
        "duration": 384,
        "start_time": "2024-02-08T06:38:35.721Z"
      },
      {
        "duration": 3,
        "start_time": "2024-02-08T06:38:36.106Z"
      },
      {
        "duration": 4,
        "start_time": "2024-02-08T06:38:36.111Z"
      },
      {
        "duration": 22,
        "start_time": "2024-02-08T06:38:36.117Z"
      },
      {
        "duration": 14,
        "start_time": "2024-02-08T06:38:36.141Z"
      },
      {
        "duration": 3,
        "start_time": "2024-02-08T06:38:36.157Z"
      },
      {
        "duration": 4,
        "start_time": "2024-02-08T06:38:36.162Z"
      },
      {
        "duration": 35092,
        "start_time": "2024-02-08T06:38:36.167Z"
      },
      {
        "duration": 10,
        "start_time": "2024-02-08T06:39:33.473Z"
      },
      {
        "duration": 7,
        "start_time": "2024-02-08T06:43:39.507Z"
      },
      {
        "duration": 30,
        "start_time": "2024-02-08T06:44:46.098Z"
      },
      {
        "duration": 11,
        "start_time": "2024-02-08T06:45:00.618Z"
      },
      {
        "duration": 11,
        "start_time": "2024-02-08T06:49:21.864Z"
      },
      {
        "duration": 6,
        "start_time": "2024-02-08T06:53:55.288Z"
      },
      {
        "duration": 47,
        "start_time": "2024-02-08T06:53:55.296Z"
      },
      {
        "duration": 873,
        "start_time": "2024-02-08T06:53:55.344Z"
      },
      {
        "duration": 10,
        "start_time": "2024-02-08T06:53:56.219Z"
      },
      {
        "duration": 38,
        "start_time": "2024-02-08T06:53:56.231Z"
      },
      {
        "duration": 182,
        "start_time": "2024-02-08T06:53:56.271Z"
      },
      {
        "duration": 445,
        "start_time": "2024-02-08T06:53:56.455Z"
      },
      {
        "duration": 366,
        "start_time": "2024-02-08T06:53:56.902Z"
      },
      {
        "duration": 3,
        "start_time": "2024-02-08T06:53:57.269Z"
      },
      {
        "duration": 3,
        "start_time": "2024-02-08T06:53:57.274Z"
      },
      {
        "duration": 6,
        "start_time": "2024-02-08T06:53:57.278Z"
      },
      {
        "duration": 14,
        "start_time": "2024-02-08T06:53:57.285Z"
      },
      {
        "duration": 6,
        "start_time": "2024-02-08T06:53:57.301Z"
      },
      {
        "duration": 8,
        "start_time": "2024-02-08T06:53:57.309Z"
      },
      {
        "duration": 33254,
        "start_time": "2024-02-08T06:53:57.319Z"
      },
      {
        "duration": 36,
        "start_time": "2024-02-08T06:54:30.575Z"
      },
      {
        "duration": 11,
        "start_time": "2024-02-08T07:02:27.286Z"
      },
      {
        "duration": 11,
        "start_time": "2024-02-08T07:07:38.273Z"
      },
      {
        "duration": 72,
        "start_time": "2024-02-08T07:16:36.885Z"
      },
      {
        "duration": 70,
        "start_time": "2024-02-08T07:16:45.053Z"
      },
      {
        "duration": 3149,
        "start_time": "2024-02-08T07:27:17.498Z"
      },
      {
        "duration": 11,
        "start_time": "2024-02-08T07:27:20.649Z"
      },
      {
        "duration": 3381,
        "start_time": "2024-02-08T07:27:20.662Z"
      },
      {
        "duration": 13,
        "start_time": "2024-02-08T07:27:24.045Z"
      },
      {
        "duration": 43,
        "start_time": "2024-02-08T07:27:24.060Z"
      },
      {
        "duration": 299,
        "start_time": "2024-02-08T07:27:24.105Z"
      },
      {
        "duration": 489,
        "start_time": "2024-02-08T07:27:24.405Z"
      },
      {
        "duration": 388,
        "start_time": "2024-02-08T07:27:24.896Z"
      },
      {
        "duration": 2,
        "start_time": "2024-02-08T07:27:25.286Z"
      },
      {
        "duration": 23,
        "start_time": "2024-02-08T07:27:25.290Z"
      },
      {
        "duration": 19,
        "start_time": "2024-02-08T07:27:25.314Z"
      },
      {
        "duration": 21,
        "start_time": "2024-02-08T07:27:25.334Z"
      },
      {
        "duration": 19,
        "start_time": "2024-02-08T07:27:25.357Z"
      },
      {
        "duration": 22,
        "start_time": "2024-02-08T07:27:25.378Z"
      },
      {
        "duration": 33607,
        "start_time": "2024-02-08T07:27:25.401Z"
      },
      {
        "duration": 33,
        "start_time": "2024-02-08T07:27:59.010Z"
      },
      {
        "duration": 66,
        "start_time": "2024-02-08T07:27:59.045Z"
      },
      {
        "duration": 10910,
        "start_time": "2024-02-08T07:27:59.112Z"
      },
      {
        "duration": 243000,
        "start_time": "2024-02-08T07:28:10.024Z"
      },
      {
        "duration": 0,
        "start_time": "2024-02-08T07:44:10.782Z"
      },
      {
        "duration": 2885,
        "start_time": "2024-02-08T07:51:56.669Z"
      },
      {
        "duration": 11,
        "start_time": "2024-02-08T07:51:59.556Z"
      },
      {
        "duration": 861,
        "start_time": "2024-02-08T07:51:59.568Z"
      },
      {
        "duration": 13,
        "start_time": "2024-02-08T07:52:00.430Z"
      },
      {
        "duration": 95,
        "start_time": "2024-02-08T07:52:00.445Z"
      },
      {
        "duration": 299,
        "start_time": "2024-02-08T07:52:00.542Z"
      },
      {
        "duration": 516,
        "start_time": "2024-02-08T07:52:00.843Z"
      },
      {
        "duration": 414,
        "start_time": "2024-02-08T07:52:01.361Z"
      },
      {
        "duration": 2,
        "start_time": "2024-02-08T07:52:01.777Z"
      },
      {
        "duration": 39,
        "start_time": "2024-02-08T07:52:01.780Z"
      },
      {
        "duration": 18,
        "start_time": "2024-02-08T07:52:01.821Z"
      },
      {
        "duration": 45,
        "start_time": "2024-02-08T07:52:01.841Z"
      },
      {
        "duration": 45,
        "start_time": "2024-02-08T07:52:01.888Z"
      },
      {
        "duration": 98,
        "start_time": "2024-02-08T07:52:01.935Z"
      },
      {
        "duration": 34415,
        "start_time": "2024-02-08T07:52:02.035Z"
      },
      {
        "duration": 34,
        "start_time": "2024-02-08T07:52:36.451Z"
      },
      {
        "duration": 55,
        "start_time": "2024-02-08T07:52:36.486Z"
      },
      {
        "duration": 10994,
        "start_time": "2024-02-08T07:52:36.543Z"
      },
      {
        "duration": 87496,
        "start_time": "2024-02-08T07:52:47.539Z"
      },
      {
        "duration": 0,
        "start_time": "2024-02-08T07:54:15.036Z"
      },
      {
        "duration": 303486,
        "start_time": "2024-02-08T07:54:48.278Z"
      },
      {
        "duration": 649139,
        "start_time": "2024-02-08T08:01:07.859Z"
      },
      {
        "duration": 185350,
        "start_time": "2024-02-08T08:16:51.609Z"
      },
      {
        "duration": 199374,
        "start_time": "2024-02-08T08:39:22.402Z"
      },
      {
        "duration": 193641,
        "start_time": "2024-02-08T08:46:23.839Z"
      },
      {
        "duration": 1149484,
        "start_time": "2024-02-08T08:53:24.519Z"
      },
      {
        "duration": 0,
        "start_time": "2024-02-08T09:12:34.007Z"
      },
      {
        "duration": 2972,
        "start_time": "2024-02-08T09:16:42.743Z"
      },
      {
        "duration": 11,
        "start_time": "2024-02-08T09:16:45.717Z"
      },
      {
        "duration": 2182,
        "start_time": "2024-02-08T09:16:45.729Z"
      },
      {
        "duration": 13,
        "start_time": "2024-02-08T09:16:47.913Z"
      },
      {
        "duration": 44,
        "start_time": "2024-02-08T09:16:47.928Z"
      },
      {
        "duration": 291,
        "start_time": "2024-02-08T09:16:47.974Z"
      },
      {
        "duration": 488,
        "start_time": "2024-02-08T09:16:48.267Z"
      },
      {
        "duration": 386,
        "start_time": "2024-02-08T09:16:48.759Z"
      },
      {
        "duration": 2,
        "start_time": "2024-02-08T09:16:49.147Z"
      },
      {
        "duration": 12,
        "start_time": "2024-02-08T09:16:49.151Z"
      },
      {
        "duration": 18,
        "start_time": "2024-02-08T09:16:49.165Z"
      },
      {
        "duration": 25,
        "start_time": "2024-02-08T09:16:49.184Z"
      },
      {
        "duration": 24,
        "start_time": "2024-02-08T09:16:49.210Z"
      },
      {
        "duration": 16,
        "start_time": "2024-02-08T09:16:49.235Z"
      },
      {
        "duration": 34054,
        "start_time": "2024-02-08T09:16:49.253Z"
      },
      {
        "duration": 34,
        "start_time": "2024-02-08T09:17:23.308Z"
      },
      {
        "duration": 63,
        "start_time": "2024-02-08T09:17:23.343Z"
      },
      {
        "duration": 10894,
        "start_time": "2024-02-08T09:17:23.407Z"
      },
      {
        "duration": 5820,
        "start_time": "2024-02-08T09:17:34.303Z"
      },
      {
        "duration": 247382,
        "start_time": "2024-02-08T09:17:40.124Z"
      },
      {
        "duration": 0,
        "start_time": "2024-02-08T09:21:47.508Z"
      },
      {
        "duration": 14466,
        "start_time": "2024-02-08T09:22:12.776Z"
      },
      {
        "duration": 51354,
        "start_time": "2024-02-08T09:23:12.466Z"
      },
      {
        "duration": 28633,
        "start_time": "2024-02-08T09:24:26.506Z"
      },
      {
        "duration": 4,
        "start_time": "2024-02-08T09:25:54.945Z"
      },
      {
        "duration": 3,
        "start_time": "2024-02-08T09:26:48.115Z"
      },
      {
        "duration": 72006,
        "start_time": "2024-02-08T09:27:27.259Z"
      },
      {
        "duration": 4,
        "start_time": "2024-02-08T09:29:43.403Z"
      },
      {
        "duration": 147788,
        "start_time": "2024-02-08T09:30:29.236Z"
      },
      {
        "duration": 4,
        "start_time": "2024-02-08T09:33:02.093Z"
      },
      {
        "duration": 3004,
        "start_time": "2024-02-08T09:44:23.898Z"
      },
      {
        "duration": 12,
        "start_time": "2024-02-08T09:44:26.903Z"
      },
      {
        "duration": 3338,
        "start_time": "2024-02-08T09:44:26.916Z"
      },
      {
        "duration": 14,
        "start_time": "2024-02-08T09:44:30.256Z"
      },
      {
        "duration": 55,
        "start_time": "2024-02-08T09:44:30.271Z"
      },
      {
        "duration": 311,
        "start_time": "2024-02-08T09:44:30.328Z"
      },
      {
        "duration": 509,
        "start_time": "2024-02-08T09:44:30.641Z"
      },
      {
        "duration": 427,
        "start_time": "2024-02-08T09:44:31.152Z"
      },
      {
        "duration": 2,
        "start_time": "2024-02-08T09:44:31.581Z"
      },
      {
        "duration": 28,
        "start_time": "2024-02-08T09:44:31.586Z"
      },
      {
        "duration": 47,
        "start_time": "2024-02-08T09:44:31.616Z"
      },
      {
        "duration": 45,
        "start_time": "2024-02-08T09:44:31.665Z"
      },
      {
        "duration": 41,
        "start_time": "2024-02-08T09:44:31.712Z"
      },
      {
        "duration": 23,
        "start_time": "2024-02-08T09:44:31.755Z"
      },
      {
        "duration": 34045,
        "start_time": "2024-02-08T09:44:31.780Z"
      },
      {
        "duration": 39,
        "start_time": "2024-02-08T09:45:05.827Z"
      },
      {
        "duration": 59,
        "start_time": "2024-02-08T09:45:05.868Z"
      },
      {
        "duration": 10861,
        "start_time": "2024-02-08T09:45:05.929Z"
      },
      {
        "duration": 14140,
        "start_time": "2024-02-08T09:45:16.792Z"
      },
      {
        "duration": 72420,
        "start_time": "2024-02-08T09:45:30.933Z"
      },
      {
        "duration": 4,
        "start_time": "2024-02-08T09:46:43.358Z"
      },
      {
        "duration": 3014,
        "start_time": "2024-02-08T09:53:06.078Z"
      },
      {
        "duration": 10,
        "start_time": "2024-02-08T09:53:09.094Z"
      },
      {
        "duration": 3326,
        "start_time": "2024-02-08T09:53:09.106Z"
      },
      {
        "duration": 13,
        "start_time": "2024-02-08T09:53:12.434Z"
      },
      {
        "duration": 29,
        "start_time": "2024-02-08T09:53:12.448Z"
      },
      {
        "duration": 282,
        "start_time": "2024-02-08T09:53:12.479Z"
      },
      {
        "duration": 496,
        "start_time": "2024-02-08T09:53:12.762Z"
      },
      {
        "duration": 390,
        "start_time": "2024-02-08T09:53:13.259Z"
      },
      {
        "duration": 2,
        "start_time": "2024-02-08T09:53:13.650Z"
      },
      {
        "duration": 8,
        "start_time": "2024-02-08T09:53:13.659Z"
      },
      {
        "duration": 17,
        "start_time": "2024-02-08T09:53:13.669Z"
      },
      {
        "duration": 7,
        "start_time": "2024-02-08T09:53:13.687Z"
      },
      {
        "duration": 7,
        "start_time": "2024-02-08T09:53:13.695Z"
      },
      {
        "duration": 4,
        "start_time": "2024-02-08T09:53:13.703Z"
      },
      {
        "duration": 34572,
        "start_time": "2024-02-08T09:53:13.708Z"
      },
      {
        "duration": 36,
        "start_time": "2024-02-08T09:53:48.282Z"
      },
      {
        "duration": 75,
        "start_time": "2024-02-08T09:53:48.319Z"
      },
      {
        "duration": 11302,
        "start_time": "2024-02-08T09:53:48.395Z"
      },
      {
        "duration": 15058,
        "start_time": "2024-02-08T09:53:59.698Z"
      },
      {
        "duration": 73818,
        "start_time": "2024-02-08T09:54:14.758Z"
      },
      {
        "duration": 4,
        "start_time": "2024-02-08T09:55:28.577Z"
      },
      {
        "duration": 46,
        "start_time": "2024-02-08T10:00:34.809Z"
      },
      {
        "duration": 3072,
        "start_time": "2024-02-08T10:00:47.522Z"
      },
      {
        "duration": 63,
        "start_time": "2024-02-08T10:00:50.596Z"
      },
      {
        "duration": 3329,
        "start_time": "2024-02-08T10:00:50.661Z"
      },
      {
        "duration": 14,
        "start_time": "2024-02-08T10:00:53.992Z"
      },
      {
        "duration": 67,
        "start_time": "2024-02-08T10:00:54.007Z"
      },
      {
        "duration": 287,
        "start_time": "2024-02-08T10:00:54.076Z"
      },
      {
        "duration": 490,
        "start_time": "2024-02-08T10:00:54.364Z"
      },
      {
        "duration": 390,
        "start_time": "2024-02-08T10:00:54.855Z"
      },
      {
        "duration": 2,
        "start_time": "2024-02-08T10:00:55.247Z"
      },
      {
        "duration": 40,
        "start_time": "2024-02-08T10:00:55.251Z"
      },
      {
        "duration": 29,
        "start_time": "2024-02-08T10:00:55.292Z"
      },
      {
        "duration": 31,
        "start_time": "2024-02-08T10:00:55.322Z"
      },
      {
        "duration": 16,
        "start_time": "2024-02-08T10:00:55.355Z"
      },
      {
        "duration": 14,
        "start_time": "2024-02-08T10:00:55.372Z"
      },
      {
        "duration": 34770,
        "start_time": "2024-02-08T10:00:55.387Z"
      },
      {
        "duration": 35,
        "start_time": "2024-02-08T10:01:30.159Z"
      },
      {
        "duration": 81,
        "start_time": "2024-02-08T10:01:30.195Z"
      },
      {
        "duration": 2502,
        "start_time": "2024-02-08T10:01:30.277Z"
      },
      {
        "duration": 0,
        "start_time": "2024-02-08T10:01:32.780Z"
      },
      {
        "duration": 0,
        "start_time": "2024-02-08T10:01:32.781Z"
      },
      {
        "duration": 0,
        "start_time": "2024-02-08T10:01:32.782Z"
      },
      {
        "duration": 2866,
        "start_time": "2024-02-08T10:02:12.725Z"
      },
      {
        "duration": 12,
        "start_time": "2024-02-08T10:02:15.592Z"
      },
      {
        "duration": 876,
        "start_time": "2024-02-08T10:02:15.605Z"
      },
      {
        "duration": 13,
        "start_time": "2024-02-08T10:02:16.483Z"
      },
      {
        "duration": 32,
        "start_time": "2024-02-08T10:02:16.497Z"
      },
      {
        "duration": 301,
        "start_time": "2024-02-08T10:02:16.530Z"
      },
      {
        "duration": 493,
        "start_time": "2024-02-08T10:02:16.833Z"
      },
      {
        "duration": 401,
        "start_time": "2024-02-08T10:02:17.328Z"
      },
      {
        "duration": 2,
        "start_time": "2024-02-08T10:02:17.731Z"
      },
      {
        "duration": 21,
        "start_time": "2024-02-08T10:02:17.735Z"
      },
      {
        "duration": 21,
        "start_time": "2024-02-08T10:02:17.757Z"
      },
      {
        "duration": 19,
        "start_time": "2024-02-08T10:02:17.779Z"
      },
      {
        "duration": 6,
        "start_time": "2024-02-08T10:02:17.799Z"
      },
      {
        "duration": 23,
        "start_time": "2024-02-08T10:02:17.806Z"
      },
      {
        "duration": 35438,
        "start_time": "2024-02-08T10:02:17.830Z"
      },
      {
        "duration": 33,
        "start_time": "2024-02-08T10:02:53.270Z"
      },
      {
        "duration": 70,
        "start_time": "2024-02-08T10:02:53.305Z"
      },
      {
        "duration": 10806,
        "start_time": "2024-02-08T10:02:53.376Z"
      },
      {
        "duration": 13997,
        "start_time": "2024-02-08T10:03:04.184Z"
      },
      {
        "duration": 75757,
        "start_time": "2024-02-08T10:03:18.183Z"
      },
      {
        "duration": 2990,
        "start_time": "2024-02-08T10:25:20.422Z"
      },
      {
        "duration": 11,
        "start_time": "2024-02-08T10:25:23.413Z"
      },
      {
        "duration": 3401,
        "start_time": "2024-02-08T10:25:23.425Z"
      },
      {
        "duration": 13,
        "start_time": "2024-02-08T10:25:26.828Z"
      },
      {
        "duration": 35,
        "start_time": "2024-02-08T10:25:26.842Z"
      },
      {
        "duration": 290,
        "start_time": "2024-02-08T10:25:26.878Z"
      },
      {
        "duration": 543,
        "start_time": "2024-02-08T10:25:27.169Z"
      },
      {
        "duration": 396,
        "start_time": "2024-02-08T10:25:27.714Z"
      },
      {
        "duration": 2,
        "start_time": "2024-02-08T10:25:28.112Z"
      },
      {
        "duration": 12,
        "start_time": "2024-02-08T10:25:28.116Z"
      },
      {
        "duration": 19,
        "start_time": "2024-02-08T10:25:28.129Z"
      },
      {
        "duration": 10,
        "start_time": "2024-02-08T10:25:28.149Z"
      },
      {
        "duration": 7,
        "start_time": "2024-02-08T10:25:28.161Z"
      },
      {
        "duration": 7,
        "start_time": "2024-02-08T10:25:28.169Z"
      },
      {
        "duration": 33699,
        "start_time": "2024-02-08T10:25:28.177Z"
      },
      {
        "duration": 36,
        "start_time": "2024-02-08T10:26:01.877Z"
      },
      {
        "duration": 81,
        "start_time": "2024-02-08T10:26:01.914Z"
      },
      {
        "duration": 11248,
        "start_time": "2024-02-08T10:26:01.997Z"
      },
      {
        "duration": 13867,
        "start_time": "2024-02-08T10:26:13.246Z"
      },
      {
        "duration": 73431,
        "start_time": "2024-02-08T10:26:27.115Z"
      },
      {
        "duration": 3140,
        "start_time": "2024-02-08T10:41:08.487Z"
      },
      {
        "duration": 12,
        "start_time": "2024-02-08T10:41:11.629Z"
      },
      {
        "duration": 12,
        "start_time": "2024-02-08T10:41:11.642Z"
      },
      {
        "duration": 3393,
        "start_time": "2024-02-08T10:41:11.656Z"
      },
      {
        "duration": 16,
        "start_time": "2024-02-08T10:41:15.051Z"
      },
      {
        "duration": 45,
        "start_time": "2024-02-08T10:41:15.068Z"
      },
      {
        "duration": 361,
        "start_time": "2024-02-08T10:41:15.114Z"
      },
      {
        "duration": 558,
        "start_time": "2024-02-08T10:41:15.477Z"
      },
      {
        "duration": 404,
        "start_time": "2024-02-08T10:41:16.037Z"
      },
      {
        "duration": 2,
        "start_time": "2024-02-08T10:41:16.442Z"
      },
      {
        "duration": 12,
        "start_time": "2024-02-08T10:41:16.446Z"
      },
      {
        "duration": 7,
        "start_time": "2024-02-08T10:41:16.460Z"
      },
      {
        "duration": 7,
        "start_time": "2024-02-08T10:41:16.468Z"
      },
      {
        "duration": 6,
        "start_time": "2024-02-08T10:41:16.477Z"
      },
      {
        "duration": 5,
        "start_time": "2024-02-08T10:41:16.484Z"
      },
      {
        "duration": 6,
        "start_time": "2024-02-08T10:41:16.493Z"
      },
      {
        "duration": 36610,
        "start_time": "2024-02-08T10:41:16.500Z"
      },
      {
        "duration": 34,
        "start_time": "2024-02-08T10:41:53.112Z"
      },
      {
        "duration": 11,
        "start_time": "2024-02-08T10:44:56.342Z"
      },
      {
        "duration": 3000,
        "start_time": "2024-02-08T10:52:20.745Z"
      },
      {
        "duration": 10,
        "start_time": "2024-02-08T10:52:23.747Z"
      },
      {
        "duration": 35,
        "start_time": "2024-02-08T10:52:23.759Z"
      },
      {
        "duration": 866,
        "start_time": "2024-02-08T10:52:23.796Z"
      },
      {
        "duration": 14,
        "start_time": "2024-02-08T10:52:24.664Z"
      },
      {
        "duration": 49,
        "start_time": "2024-02-08T10:52:24.679Z"
      },
      {
        "duration": 324,
        "start_time": "2024-02-08T10:52:24.730Z"
      },
      {
        "duration": 485,
        "start_time": "2024-02-08T10:52:25.056Z"
      },
      {
        "duration": 381,
        "start_time": "2024-02-08T10:52:25.543Z"
      },
      {
        "duration": 3,
        "start_time": "2024-02-08T10:52:25.927Z"
      },
      {
        "duration": 16,
        "start_time": "2024-02-08T10:52:25.931Z"
      },
      {
        "duration": 30,
        "start_time": "2024-02-08T10:52:25.948Z"
      },
      {
        "duration": 34110,
        "start_time": "2024-02-08T10:52:25.979Z"
      },
      {
        "duration": 2,
        "start_time": "2024-02-08T10:53:00.091Z"
      },
      {
        "duration": 70,
        "start_time": "2024-02-08T10:53:00.095Z"
      },
      {
        "duration": 71,
        "start_time": "2024-02-08T10:53:00.167Z"
      },
      {
        "duration": 10890,
        "start_time": "2024-02-08T10:53:00.239Z"
      },
      {
        "duration": 14007,
        "start_time": "2024-02-08T10:53:11.131Z"
      },
      {
        "duration": 74043,
        "start_time": "2024-02-08T10:53:25.140Z"
      },
      {
        "duration": 2903,
        "start_time": "2024-02-08T10:56:09.960Z"
      },
      {
        "duration": 11,
        "start_time": "2024-02-08T10:56:12.865Z"
      },
      {
        "duration": 6,
        "start_time": "2024-02-08T10:56:12.877Z"
      },
      {
        "duration": 3297,
        "start_time": "2024-02-08T10:56:12.885Z"
      },
      {
        "duration": 14,
        "start_time": "2024-02-08T10:56:16.184Z"
      },
      {
        "duration": 34,
        "start_time": "2024-02-08T10:56:16.199Z"
      },
      {
        "duration": 272,
        "start_time": "2024-02-08T10:56:16.235Z"
      },
      {
        "duration": 497,
        "start_time": "2024-02-08T10:56:16.509Z"
      },
      {
        "duration": 384,
        "start_time": "2024-02-08T10:56:17.008Z"
      },
      {
        "duration": 3,
        "start_time": "2024-02-08T10:56:17.393Z"
      },
      {
        "duration": 10,
        "start_time": "2024-02-08T10:56:17.398Z"
      },
      {
        "duration": 5,
        "start_time": "2024-02-08T10:56:17.409Z"
      },
      {
        "duration": 34160,
        "start_time": "2024-02-08T10:56:17.415Z"
      },
      {
        "duration": 2,
        "start_time": "2024-02-08T10:56:51.577Z"
      },
      {
        "duration": 55,
        "start_time": "2024-02-08T10:56:51.581Z"
      },
      {
        "duration": 64,
        "start_time": "2024-02-08T10:56:51.638Z"
      },
      {
        "duration": 10582,
        "start_time": "2024-02-08T10:56:51.704Z"
      },
      {
        "duration": 13864,
        "start_time": "2024-02-08T10:57:02.288Z"
      },
      {
        "duration": 72437,
        "start_time": "2024-02-08T10:57:16.154Z"
      },
      {
        "duration": 61,
        "start_time": "2024-02-08T11:08:20.206Z"
      },
      {
        "duration": 2802,
        "start_time": "2024-02-08T11:08:33.488Z"
      },
      {
        "duration": 11,
        "start_time": "2024-02-08T11:08:36.291Z"
      },
      {
        "duration": 6,
        "start_time": "2024-02-08T11:08:36.304Z"
      },
      {
        "duration": 3279,
        "start_time": "2024-02-08T11:08:36.311Z"
      },
      {
        "duration": 17,
        "start_time": "2024-02-08T11:08:39.592Z"
      },
      {
        "duration": 33,
        "start_time": "2024-02-08T11:08:39.611Z"
      },
      {
        "duration": 282,
        "start_time": "2024-02-08T11:08:39.645Z"
      },
      {
        "duration": 492,
        "start_time": "2024-02-08T11:08:39.928Z"
      },
      {
        "duration": 366,
        "start_time": "2024-02-08T11:08:40.422Z"
      },
      {
        "duration": 2,
        "start_time": "2024-02-08T11:08:40.791Z"
      },
      {
        "duration": 20,
        "start_time": "2024-02-08T11:08:40.795Z"
      },
      {
        "duration": 33438,
        "start_time": "2024-02-08T11:08:40.816Z"
      },
      {
        "duration": 11,
        "start_time": "2024-02-08T11:09:14.255Z"
      },
      {
        "duration": 2937,
        "start_time": "2024-02-08T11:24:11.362Z"
      },
      {
        "duration": 13,
        "start_time": "2024-02-08T11:24:14.300Z"
      },
      {
        "duration": 18,
        "start_time": "2024-02-08T11:24:14.315Z"
      },
      {
        "duration": 865,
        "start_time": "2024-02-08T11:24:14.335Z"
      },
      {
        "duration": 12,
        "start_time": "2024-02-08T11:24:15.202Z"
      },
      {
        "duration": 50,
        "start_time": "2024-02-08T11:24:15.215Z"
      },
      {
        "duration": 297,
        "start_time": "2024-02-08T11:24:15.266Z"
      },
      {
        "duration": 463,
        "start_time": "2024-02-08T11:24:15.565Z"
      },
      {
        "duration": 408,
        "start_time": "2024-02-08T11:24:16.029Z"
      },
      {
        "duration": 2,
        "start_time": "2024-02-08T11:24:16.440Z"
      },
      {
        "duration": 16,
        "start_time": "2024-02-08T11:24:16.443Z"
      },
      {
        "duration": 32904,
        "start_time": "2024-02-08T11:24:16.460Z"
      },
      {
        "duration": 9,
        "start_time": "2024-02-08T11:24:49.366Z"
      },
      {
        "duration": 11,
        "start_time": "2024-02-08T11:24:49.376Z"
      },
      {
        "duration": 6,
        "start_time": "2024-02-08T11:24:49.388Z"
      },
      {
        "duration": 8,
        "start_time": "2024-02-08T11:24:49.396Z"
      },
      {
        "duration": 13,
        "start_time": "2024-02-08T11:24:49.405Z"
      },
      {
        "duration": 4,
        "start_time": "2024-02-08T11:24:49.420Z"
      },
      {
        "duration": 59,
        "start_time": "2024-02-08T11:24:49.425Z"
      },
      {
        "duration": 10229,
        "start_time": "2024-02-08T11:24:49.486Z"
      },
      {
        "duration": 13721,
        "start_time": "2024-02-08T11:24:59.716Z"
      },
      {
        "duration": 72305,
        "start_time": "2024-02-08T11:25:13.439Z"
      },
      {
        "duration": 163,
        "start_time": "2024-02-08T11:26:25.746Z"
      },
      {
        "duration": 114,
        "start_time": "2024-02-08T11:26:45.267Z"
      },
      {
        "duration": 2955,
        "start_time": "2024-02-08T11:35:03.261Z"
      },
      {
        "duration": 14,
        "start_time": "2024-02-08T11:35:06.218Z"
      },
      {
        "duration": 31,
        "start_time": "2024-02-08T11:35:06.234Z"
      },
      {
        "duration": 3319,
        "start_time": "2024-02-08T11:35:06.268Z"
      },
      {
        "duration": 13,
        "start_time": "2024-02-08T11:35:09.589Z"
      },
      {
        "duration": 44,
        "start_time": "2024-02-08T11:35:09.603Z"
      },
      {
        "duration": 304,
        "start_time": "2024-02-08T11:35:09.648Z"
      },
      {
        "duration": 476,
        "start_time": "2024-02-08T11:35:09.954Z"
      },
      {
        "duration": 389,
        "start_time": "2024-02-08T11:35:10.432Z"
      },
      {
        "duration": 3,
        "start_time": "2024-02-08T11:35:10.823Z"
      },
      {
        "duration": 8,
        "start_time": "2024-02-08T11:35:10.827Z"
      },
      {
        "duration": 3041,
        "start_time": "2024-02-08T11:51:28.364Z"
      },
      {
        "duration": 11,
        "start_time": "2024-02-08T11:51:31.407Z"
      },
      {
        "duration": 42,
        "start_time": "2024-02-08T11:51:31.420Z"
      },
      {
        "duration": 876,
        "start_time": "2024-02-08T11:51:31.465Z"
      },
      {
        "duration": 17,
        "start_time": "2024-02-08T11:51:32.343Z"
      },
      {
        "duration": 50,
        "start_time": "2024-02-08T11:51:32.362Z"
      },
      {
        "duration": 348,
        "start_time": "2024-02-08T11:51:32.413Z"
      },
      {
        "duration": 503,
        "start_time": "2024-02-08T11:51:32.763Z"
      },
      {
        "duration": 400,
        "start_time": "2024-02-08T11:51:33.267Z"
      },
      {
        "duration": 2,
        "start_time": "2024-02-08T11:51:33.669Z"
      },
      {
        "duration": 24,
        "start_time": "2024-02-08T11:51:33.673Z"
      },
      {
        "duration": 33302,
        "start_time": "2024-02-08T11:51:33.698Z"
      },
      {
        "duration": 35,
        "start_time": "2024-02-08T11:52:07.002Z"
      },
      {
        "duration": 65,
        "start_time": "2024-02-08T11:52:07.039Z"
      },
      {
        "duration": 10834,
        "start_time": "2024-02-08T11:52:07.106Z"
      },
      {
        "duration": 13103,
        "start_time": "2024-02-08T11:52:17.942Z"
      },
      {
        "duration": 73456,
        "start_time": "2024-02-08T11:52:31.047Z"
      },
      {
        "duration": 2999,
        "start_time": "2024-02-08T12:17:09.072Z"
      },
      {
        "duration": 12,
        "start_time": "2024-02-08T12:17:12.072Z"
      },
      {
        "duration": 11,
        "start_time": "2024-02-08T12:17:12.085Z"
      },
      {
        "duration": 3318,
        "start_time": "2024-02-08T12:17:12.098Z"
      },
      {
        "duration": 14,
        "start_time": "2024-02-08T12:17:15.417Z"
      },
      {
        "duration": 49,
        "start_time": "2024-02-08T12:17:15.432Z"
      },
      {
        "duration": 314,
        "start_time": "2024-02-08T12:17:15.482Z"
      },
      {
        "duration": 489,
        "start_time": "2024-02-08T12:17:15.797Z"
      },
      {
        "duration": 384,
        "start_time": "2024-02-08T12:17:16.287Z"
      },
      {
        "duration": 3,
        "start_time": "2024-02-08T12:17:16.673Z"
      },
      {
        "duration": 33051,
        "start_time": "2024-02-08T12:17:16.677Z"
      },
      {
        "duration": 36,
        "start_time": "2024-02-08T12:17:49.729Z"
      },
      {
        "duration": 58,
        "start_time": "2024-02-08T12:17:49.767Z"
      },
      {
        "duration": 10960,
        "start_time": "2024-02-08T12:17:49.826Z"
      },
      {
        "duration": 2941,
        "start_time": "2024-02-08T17:37:54.143Z"
      },
      {
        "duration": 12,
        "start_time": "2024-02-08T17:37:57.087Z"
      },
      {
        "duration": 5,
        "start_time": "2024-02-08T17:37:57.101Z"
      },
      {
        "duration": 916,
        "start_time": "2024-02-08T17:37:57.108Z"
      },
      {
        "duration": 14,
        "start_time": "2024-02-08T17:37:58.025Z"
      },
      {
        "duration": 42,
        "start_time": "2024-02-08T17:37:58.041Z"
      },
      {
        "duration": 275,
        "start_time": "2024-02-08T17:37:58.085Z"
      },
      {
        "duration": 505,
        "start_time": "2024-02-08T17:37:58.362Z"
      },
      {
        "duration": 419,
        "start_time": "2024-02-08T17:37:58.869Z"
      },
      {
        "duration": 4,
        "start_time": "2024-02-08T17:37:59.290Z"
      },
      {
        "duration": 37316,
        "start_time": "2024-02-08T17:37:59.295Z"
      },
      {
        "duration": 33,
        "start_time": "2024-02-08T17:38:36.612Z"
      },
      {
        "duration": 81,
        "start_time": "2024-02-08T17:38:36.647Z"
      },
      {
        "duration": 11653,
        "start_time": "2024-02-08T17:38:36.730Z"
      },
      {
        "duration": 14570,
        "start_time": "2024-02-08T17:38:48.385Z"
      },
      {
        "duration": 75942,
        "start_time": "2024-02-08T17:39:02.957Z"
      },
      {
        "duration": 3,
        "start_time": "2024-02-08T17:40:18.901Z"
      },
      {
        "duration": 5,
        "start_time": "2024-02-08T17:48:29.751Z"
      },
      {
        "duration": 208,
        "start_time": "2024-02-08T17:48:36.508Z"
      },
      {
        "duration": 43,
        "start_time": "2024-02-08T17:48:57.068Z"
      },
      {
        "duration": 14127,
        "start_time": "2024-02-08T17:50:00.525Z"
      },
      {
        "duration": 3597,
        "start_time": "2024-02-08T18:21:06.818Z"
      },
      {
        "duration": 4111,
        "start_time": "2024-02-08T18:21:43.058Z"
      },
      {
        "duration": 73603,
        "start_time": "2024-02-08T18:32:38.287Z"
      },
      {
        "duration": 327711,
        "start_time": "2024-02-08T18:34:07.296Z"
      },
      {
        "duration": 3156,
        "start_time": "2024-02-08T18:44:36.579Z"
      },
      {
        "duration": 13,
        "start_time": "2024-02-08T18:44:39.736Z"
      },
      {
        "duration": 3,
        "start_time": "2024-02-08T18:44:39.750Z"
      },
      {
        "duration": 919,
        "start_time": "2024-02-08T18:44:39.754Z"
      },
      {
        "duration": 13,
        "start_time": "2024-02-08T18:44:40.675Z"
      },
      {
        "duration": 29,
        "start_time": "2024-02-08T18:44:40.689Z"
      },
      {
        "duration": 288,
        "start_time": "2024-02-08T18:44:40.720Z"
      },
      {
        "duration": 540,
        "start_time": "2024-02-08T18:44:41.010Z"
      },
      {
        "duration": 402,
        "start_time": "2024-02-08T18:44:41.551Z"
      },
      {
        "duration": 5,
        "start_time": "2024-02-08T18:44:41.956Z"
      },
      {
        "duration": 33594,
        "start_time": "2024-02-08T18:44:41.963Z"
      },
      {
        "duration": 36,
        "start_time": "2024-02-08T18:45:15.559Z"
      },
      {
        "duration": 72,
        "start_time": "2024-02-08T18:45:15.596Z"
      },
      {
        "duration": 11100,
        "start_time": "2024-02-08T18:45:15.670Z"
      },
      {
        "duration": 12689,
        "start_time": "2024-02-08T18:45:26.772Z"
      },
      {
        "duration": 71578,
        "start_time": "2024-02-08T18:45:39.463Z"
      },
      {
        "duration": 1780,
        "start_time": "2024-02-08T18:46:51.043Z"
      },
      {
        "duration": 8,
        "start_time": "2024-02-08T18:46:52.824Z"
      },
      {
        "duration": 1232,
        "start_time": "2024-02-08T18:56:57.780Z"
      },
      {
        "duration": 5,
        "start_time": "2024-02-08T19:00:41.655Z"
      },
      {
        "duration": 381,
        "start_time": "2024-02-08T19:00:50.795Z"
      },
      {
        "duration": 388,
        "start_time": "2024-02-08T19:02:55.716Z"
      },
      {
        "duration": 372,
        "start_time": "2024-02-08T19:05:53.543Z"
      },
      {
        "duration": 400,
        "start_time": "2024-02-08T19:06:27.239Z"
      },
      {
        "duration": 2935,
        "start_time": "2024-02-08T19:24:41.388Z"
      },
      {
        "duration": 11,
        "start_time": "2024-02-08T19:24:44.325Z"
      },
      {
        "duration": 12,
        "start_time": "2024-02-08T19:24:44.337Z"
      },
      {
        "duration": 868,
        "start_time": "2024-02-08T19:24:44.350Z"
      },
      {
        "duration": 13,
        "start_time": "2024-02-08T19:24:45.219Z"
      },
      {
        "duration": 46,
        "start_time": "2024-02-08T19:24:45.233Z"
      },
      {
        "duration": 213,
        "start_time": "2024-02-08T19:24:45.281Z"
      },
      {
        "duration": 484,
        "start_time": "2024-02-08T19:24:45.496Z"
      },
      {
        "duration": 387,
        "start_time": "2024-02-08T19:24:45.982Z"
      },
      {
        "duration": 3,
        "start_time": "2024-02-08T19:24:46.372Z"
      },
      {
        "duration": 33247,
        "start_time": "2024-02-08T19:24:46.377Z"
      },
      {
        "duration": 34,
        "start_time": "2024-02-08T19:25:19.625Z"
      },
      {
        "duration": 59,
        "start_time": "2024-02-08T19:25:19.661Z"
      },
      {
        "duration": 10828,
        "start_time": "2024-02-08T19:25:19.721Z"
      },
      {
        "duration": 12688,
        "start_time": "2024-02-08T19:25:30.550Z"
      },
      {
        "duration": 70893,
        "start_time": "2024-02-08T19:25:43.239Z"
      },
      {
        "duration": 1688,
        "start_time": "2024-02-08T19:26:54.134Z"
      },
      {
        "duration": 8,
        "start_time": "2024-02-08T19:26:55.823Z"
      },
      {
        "duration": 1083,
        "start_time": "2024-02-08T19:26:55.832Z"
      },
      {
        "duration": 397,
        "start_time": "2024-02-08T19:26:56.917Z"
      },
      {
        "duration": 19,
        "start_time": "2024-02-08T19:33:29.024Z"
      },
      {
        "duration": 18,
        "start_time": "2024-02-08T19:34:33.603Z"
      },
      {
        "duration": 17,
        "start_time": "2024-02-08T19:34:43.228Z"
      },
      {
        "duration": 19,
        "start_time": "2024-02-08T19:34:51.819Z"
      },
      {
        "duration": 6618,
        "start_time": "2024-02-08T20:38:12.721Z"
      },
      {
        "duration": 12,
        "start_time": "2024-02-08T20:38:20.476Z"
      },
      {
        "duration": 2384,
        "start_time": "2024-02-09T11:00:34.484Z"
      },
      {
        "duration": 13,
        "start_time": "2024-02-09T11:00:36.870Z"
      },
      {
        "duration": 21,
        "start_time": "2024-02-09T11:00:36.884Z"
      },
      {
        "duration": 3616,
        "start_time": "2024-02-09T11:00:36.909Z"
      },
      {
        "duration": 16,
        "start_time": "2024-02-09T11:00:40.527Z"
      },
      {
        "duration": 57,
        "start_time": "2024-02-09T11:00:40.544Z"
      },
      {
        "duration": 245,
        "start_time": "2024-02-09T11:00:40.604Z"
      },
      {
        "duration": 576,
        "start_time": "2024-02-09T11:00:40.851Z"
      },
      {
        "duration": 459,
        "start_time": "2024-02-09T11:00:41.429Z"
      },
      {
        "duration": 5,
        "start_time": "2024-02-09T11:00:41.891Z"
      },
      {
        "duration": 47678,
        "start_time": "2024-02-09T11:00:41.900Z"
      },
      {
        "duration": 41469,
        "start_time": "2024-02-09T11:01:29.580Z"
      },
      {
        "duration": 41,
        "start_time": "2024-02-09T11:02:11.051Z"
      },
      {
        "duration": 71,
        "start_time": "2024-02-09T11:02:11.095Z"
      },
      {
        "duration": 7602,
        "start_time": "2024-02-09T11:02:11.168Z"
      },
      {
        "duration": 16592,
        "start_time": "2024-02-09T11:02:18.772Z"
      },
      {
        "duration": 92748,
        "start_time": "2024-02-09T11:02:35.366Z"
      },
      {
        "duration": 2272,
        "start_time": "2024-02-09T11:04:08.116Z"
      },
      {
        "duration": 15,
        "start_time": "2024-02-09T11:04:10.389Z"
      },
      {
        "duration": 1332,
        "start_time": "2024-02-09T11:04:10.406Z"
      },
      {
        "duration": 521,
        "start_time": "2024-02-09T11:04:11.740Z"
      },
      {
        "duration": 22,
        "start_time": "2024-02-09T11:04:12.263Z"
      },
      {
        "duration": 7,
        "start_time": "2024-02-09T11:50:36.210Z"
      },
      {
        "duration": 30,
        "start_time": "2024-02-09T11:50:36.219Z"
      },
      {
        "duration": 20,
        "start_time": "2024-02-09T11:50:36.251Z"
      },
      {
        "duration": 986,
        "start_time": "2024-02-09T11:50:36.274Z"
      },
      {
        "duration": 12,
        "start_time": "2024-02-09T11:50:37.262Z"
      },
      {
        "duration": 42,
        "start_time": "2024-02-09T11:50:37.275Z"
      },
      {
        "duration": 206,
        "start_time": "2024-02-09T11:50:37.318Z"
      },
      {
        "duration": 517,
        "start_time": "2024-02-09T11:50:37.526Z"
      },
      {
        "duration": 444,
        "start_time": "2024-02-09T11:50:38.046Z"
      },
      {
        "duration": 4,
        "start_time": "2024-02-09T11:50:38.492Z"
      },
      {
        "duration": 42800,
        "start_time": "2024-02-09T11:50:38.497Z"
      },
      {
        "duration": 3,
        "start_time": "2024-02-09T11:51:21.300Z"
      },
      {
        "duration": 36,
        "start_time": "2024-02-09T11:51:21.305Z"
      },
      {
        "duration": 116,
        "start_time": "2024-02-09T11:51:21.344Z"
      },
      {
        "duration": 71,
        "start_time": "2024-02-09T11:51:21.462Z"
      },
      {
        "duration": 176,
        "start_time": "2024-02-09T11:52:20.015Z"
      },
      {
        "duration": 8,
        "start_time": "2024-02-09T11:53:02.914Z"
      },
      {
        "duration": 13,
        "start_time": "2024-02-09T11:53:08.634Z"
      },
      {
        "duration": 135404,
        "start_time": "2024-02-09T11:54:59.178Z"
      },
      {
        "duration": 191,
        "start_time": "2024-02-09T13:49:42.983Z"
      },
      {
        "duration": 15,
        "start_time": "2024-02-09T13:49:43.176Z"
      },
      {
        "duration": 12,
        "start_time": "2024-02-09T13:49:43.193Z"
      },
      {
        "duration": 982,
        "start_time": "2024-02-09T13:49:43.207Z"
      },
      {
        "duration": 12,
        "start_time": "2024-02-09T13:49:44.192Z"
      },
      {
        "duration": 37,
        "start_time": "2024-02-09T13:49:44.205Z"
      },
      {
        "duration": 212,
        "start_time": "2024-02-09T13:49:44.244Z"
      },
      {
        "duration": 515,
        "start_time": "2024-02-09T13:49:44.458Z"
      },
      {
        "duration": 425,
        "start_time": "2024-02-09T13:49:44.975Z"
      },
      {
        "duration": 4,
        "start_time": "2024-02-09T13:49:45.402Z"
      },
      {
        "duration": 42418,
        "start_time": "2024-02-09T13:49:45.408Z"
      },
      {
        "duration": 3,
        "start_time": "2024-02-09T13:50:27.828Z"
      },
      {
        "duration": 61,
        "start_time": "2024-02-09T13:50:27.832Z"
      },
      {
        "duration": 114,
        "start_time": "2024-02-09T13:50:27.895Z"
      },
      {
        "duration": 6,
        "start_time": "2024-02-09T13:50:28.011Z"
      },
      {
        "duration": 37,
        "start_time": "2024-02-09T13:50:28.019Z"
      },
      {
        "duration": 51,
        "start_time": "2024-02-09T13:51:43.420Z"
      },
      {
        "duration": 293236,
        "start_time": "2024-02-09T13:52:33.675Z"
      },
      {
        "duration": 6,
        "start_time": "2024-02-09T13:59:23.343Z"
      },
      {
        "duration": 21,
        "start_time": "2024-02-09T13:59:23.351Z"
      },
      {
        "duration": 10,
        "start_time": "2024-02-09T13:59:23.374Z"
      },
      {
        "duration": 922,
        "start_time": "2024-02-09T13:59:23.385Z"
      },
      {
        "duration": 11,
        "start_time": "2024-02-09T13:59:24.309Z"
      },
      {
        "duration": 62,
        "start_time": "2024-02-09T13:59:24.321Z"
      },
      {
        "duration": 216,
        "start_time": "2024-02-09T13:59:24.385Z"
      },
      {
        "duration": 526,
        "start_time": "2024-02-09T13:59:24.603Z"
      },
      {
        "duration": 414,
        "start_time": "2024-02-09T13:59:25.131Z"
      },
      {
        "duration": 3,
        "start_time": "2024-02-09T13:59:25.547Z"
      },
      {
        "duration": 42428,
        "start_time": "2024-02-09T13:59:25.553Z"
      },
      {
        "duration": 3,
        "start_time": "2024-02-09T14:00:07.992Z"
      },
      {
        "duration": 53,
        "start_time": "2024-02-09T14:00:07.997Z"
      },
      {
        "duration": 109,
        "start_time": "2024-02-09T14:00:08.052Z"
      },
      {
        "duration": 6,
        "start_time": "2024-02-09T14:00:08.163Z"
      },
      {
        "duration": 30,
        "start_time": "2024-02-09T14:00:08.171Z"
      },
      {
        "duration": 30,
        "start_time": "2024-02-09T14:00:08.203Z"
      },
      {
        "duration": 56825,
        "start_time": "2024-02-09T14:00:14.374Z"
      },
      {
        "duration": 100215,
        "start_time": "2024-02-09T14:01:26.184Z"
      },
      {
        "duration": 2032,
        "start_time": "2024-02-09T14:18:38.781Z"
      },
      {
        "duration": 18,
        "start_time": "2024-02-09T14:18:40.816Z"
      },
      {
        "duration": 21,
        "start_time": "2024-02-09T14:18:40.837Z"
      },
      {
        "duration": 983,
        "start_time": "2024-02-09T14:18:40.860Z"
      },
      {
        "duration": 14,
        "start_time": "2024-02-09T14:18:41.845Z"
      },
      {
        "duration": 44,
        "start_time": "2024-02-09T14:18:41.861Z"
      },
      {
        "duration": 295,
        "start_time": "2024-02-09T14:18:41.907Z"
      },
      {
        "duration": 544,
        "start_time": "2024-02-09T14:18:42.204Z"
      },
      {
        "duration": 433,
        "start_time": "2024-02-09T14:18:42.750Z"
      },
      {
        "duration": 6,
        "start_time": "2024-02-09T14:18:43.187Z"
      },
      {
        "duration": 43422,
        "start_time": "2024-02-09T14:18:43.196Z"
      },
      {
        "duration": 4,
        "start_time": "2024-02-09T14:19:26.620Z"
      },
      {
        "duration": 69,
        "start_time": "2024-02-09T14:19:26.626Z"
      },
      {
        "duration": 69,
        "start_time": "2024-02-09T14:19:26.697Z"
      },
      {
        "duration": 26,
        "start_time": "2024-02-09T14:19:26.767Z"
      },
      {
        "duration": 5,
        "start_time": "2024-02-09T14:19:26.795Z"
      },
      {
        "duration": 24,
        "start_time": "2024-02-09T14:19:26.802Z"
      },
      {
        "duration": 86257,
        "start_time": "2024-02-09T14:19:26.829Z"
      },
      {
        "duration": 3,
        "start_time": "2024-02-09T14:20:53.088Z"
      },
      {
        "duration": 148086,
        "start_time": "2024-02-09T14:20:53.092Z"
      },
      {
        "duration": 3,
        "start_time": "2024-02-09T14:23:21.180Z"
      },
      {
        "duration": 19,
        "start_time": "2024-02-09T14:23:21.192Z"
      },
      {
        "duration": 90433,
        "start_time": "2024-02-09T14:23:21.213Z"
      },
      {
        "duration": 9,
        "start_time": "2024-02-09T14:24:51.647Z"
      },
      {
        "duration": 163,
        "start_time": "2024-02-09T14:24:51.658Z"
      },
      {
        "duration": 0,
        "start_time": "2024-02-09T14:24:51.823Z"
      },
      {
        "duration": 0,
        "start_time": "2024-02-09T14:24:51.824Z"
      },
      {
        "duration": 12,
        "start_time": "2024-02-09T14:50:53.548Z"
      },
      {
        "duration": 5,
        "start_time": "2024-02-09T14:55:53.144Z"
      },
      {
        "duration": 57092,
        "start_time": "2024-02-09T14:55:53.150Z"
      },
      {
        "duration": 3,
        "start_time": "2024-02-09T14:56:50.244Z"
      },
      {
        "duration": 145502,
        "start_time": "2024-02-09T14:56:50.248Z"
      },
      {
        "duration": 2,
        "start_time": "2024-02-09T14:59:15.752Z"
      },
      {
        "duration": 7,
        "start_time": "2024-02-09T14:59:15.756Z"
      },
      {
        "duration": 87194,
        "start_time": "2024-02-09T14:59:15.764Z"
      },
      {
        "duration": 8,
        "start_time": "2024-02-09T15:00:42.960Z"
      },
      {
        "duration": 702,
        "start_time": "2024-02-09T15:00:42.970Z"
      },
      {
        "duration": 433,
        "start_time": "2024-02-09T15:00:43.673Z"
      },
      {
        "duration": 12,
        "start_time": "2024-02-09T15:00:44.109Z"
      },
      {
        "duration": 5,
        "start_time": "2024-02-09T15:39:09.294Z"
      },
      {
        "duration": 137531,
        "start_time": "2024-02-09T15:39:09.302Z"
      },
      {
        "duration": 3,
        "start_time": "2024-02-09T15:41:26.835Z"
      },
      {
        "duration": 148783,
        "start_time": "2024-02-09T15:41:26.840Z"
      },
      {
        "duration": 2,
        "start_time": "2024-02-09T15:43:55.626Z"
      },
      {
        "duration": 33,
        "start_time": "2024-02-09T15:43:55.630Z"
      },
      {
        "duration": 86069,
        "start_time": "2024-02-09T15:43:55.665Z"
      },
      {
        "duration": 10,
        "start_time": "2024-02-09T15:45:21.736Z"
      },
      {
        "duration": 712,
        "start_time": "2024-02-09T15:45:21.747Z"
      },
      {
        "duration": 447,
        "start_time": "2024-02-09T15:45:22.461Z"
      },
      {
        "duration": 14,
        "start_time": "2024-02-09T15:45:22.910Z"
      },
      {
        "duration": 83690,
        "start_time": "2024-02-09T15:47:11.767Z"
      },
      {
        "duration": 18,
        "start_time": "2024-02-09T15:48:46.621Z"
      },
      {
        "duration": 4,
        "start_time": "2024-02-09T15:49:03.954Z"
      },
      {
        "duration": 120643,
        "start_time": "2024-02-09T15:49:03.962Z"
      },
      {
        "duration": 2,
        "start_time": "2024-02-09T15:51:04.607Z"
      },
      {
        "duration": 143294,
        "start_time": "2024-02-09T15:51:04.612Z"
      },
      {
        "duration": 3,
        "start_time": "2024-02-09T15:53:27.908Z"
      },
      {
        "duration": 33,
        "start_time": "2024-02-09T15:53:27.912Z"
      },
      {
        "duration": 83546,
        "start_time": "2024-02-09T15:53:27.946Z"
      },
      {
        "duration": 8,
        "start_time": "2024-02-09T15:54:51.494Z"
      },
      {
        "duration": 715,
        "start_time": "2024-02-09T15:54:51.505Z"
      },
      {
        "duration": 418,
        "start_time": "2024-02-09T15:54:52.222Z"
      },
      {
        "duration": 14,
        "start_time": "2024-02-09T15:54:52.642Z"
      },
      {
        "duration": 4,
        "start_time": "2024-02-09T16:03:16.617Z"
      },
      {
        "duration": 111598,
        "start_time": "2024-02-09T16:03:16.624Z"
      },
      {
        "duration": 2,
        "start_time": "2024-02-09T16:05:08.224Z"
      },
      {
        "duration": 146108,
        "start_time": "2024-02-09T16:05:08.228Z"
      },
      {
        "duration": 2,
        "start_time": "2024-02-09T16:07:34.338Z"
      },
      {
        "duration": 10,
        "start_time": "2024-02-09T16:07:34.341Z"
      },
      {
        "duration": 84324,
        "start_time": "2024-02-09T16:07:34.352Z"
      },
      {
        "duration": 16,
        "start_time": "2024-02-09T16:08:58.677Z"
      },
      {
        "duration": 691,
        "start_time": "2024-02-09T16:08:58.695Z"
      },
      {
        "duration": 400,
        "start_time": "2024-02-09T16:08:59.388Z"
      },
      {
        "duration": 22,
        "start_time": "2024-02-09T16:08:59.791Z"
      },
      {
        "duration": 4,
        "start_time": "2024-02-09T16:11:41.070Z"
      },
      {
        "duration": 112758,
        "start_time": "2024-02-09T16:11:41.076Z"
      },
      {
        "duration": 3,
        "start_time": "2024-02-09T16:13:33.836Z"
      },
      {
        "duration": 133537,
        "start_time": "2024-02-09T16:13:33.840Z"
      },
      {
        "duration": 3,
        "start_time": "2024-02-09T16:15:47.379Z"
      },
      {
        "duration": 18,
        "start_time": "2024-02-09T16:15:47.391Z"
      },
      {
        "duration": 88211,
        "start_time": "2024-02-09T16:15:47.411Z"
      },
      {
        "duration": 9,
        "start_time": "2024-02-09T16:17:15.624Z"
      },
      {
        "duration": 737,
        "start_time": "2024-02-09T16:17:15.634Z"
      },
      {
        "duration": 421,
        "start_time": "2024-02-09T16:17:16.373Z"
      },
      {
        "duration": 15,
        "start_time": "2024-02-09T16:17:16.796Z"
      },
      {
        "duration": 2041,
        "start_time": "2024-02-09T16:37:56.203Z"
      },
      {
        "duration": 12,
        "start_time": "2024-02-09T16:37:58.246Z"
      },
      {
        "duration": 19,
        "start_time": "2024-02-09T16:37:58.260Z"
      },
      {
        "duration": 1111,
        "start_time": "2024-02-09T16:37:58.281Z"
      },
      {
        "duration": 15,
        "start_time": "2024-02-09T16:37:59.394Z"
      },
      {
        "duration": 91,
        "start_time": "2024-02-09T16:37:59.410Z"
      },
      {
        "duration": 492,
        "start_time": "2024-02-09T16:37:59.503Z"
      },
      {
        "duration": 839,
        "start_time": "2024-02-09T16:37:59.996Z"
      },
      {
        "duration": 449,
        "start_time": "2024-02-09T16:38:00.836Z"
      },
      {
        "duration": 3,
        "start_time": "2024-02-09T16:38:01.291Z"
      },
      {
        "duration": 41673,
        "start_time": "2024-02-09T16:38:01.296Z"
      },
      {
        "duration": 2,
        "start_time": "2024-02-09T16:38:42.971Z"
      },
      {
        "duration": 50,
        "start_time": "2024-02-09T16:38:42.975Z"
      },
      {
        "duration": 77,
        "start_time": "2024-02-09T16:38:43.026Z"
      },
      {
        "duration": 5,
        "start_time": "2024-02-09T16:38:43.105Z"
      },
      {
        "duration": 11,
        "start_time": "2024-02-09T16:38:43.112Z"
      },
      {
        "duration": 13,
        "start_time": "2024-02-09T16:38:43.125Z"
      },
      {
        "duration": 115933,
        "start_time": "2024-02-09T16:38:43.140Z"
      },
      {
        "duration": 3,
        "start_time": "2024-02-09T16:40:39.074Z"
      },
      {
        "duration": 132623,
        "start_time": "2024-02-09T16:40:39.079Z"
      },
      {
        "duration": 3,
        "start_time": "2024-02-09T16:42:51.705Z"
      },
      {
        "duration": 10,
        "start_time": "2024-02-09T16:42:51.710Z"
      },
      {
        "duration": 87949,
        "start_time": "2024-02-09T16:42:51.721Z"
      },
      {
        "duration": 9,
        "start_time": "2024-02-09T16:44:19.671Z"
      },
      {
        "duration": 733,
        "start_time": "2024-02-09T16:44:19.681Z"
      },
      {
        "duration": 378,
        "start_time": "2024-02-09T16:44:20.416Z"
      },
      {
        "duration": 14,
        "start_time": "2024-02-09T16:44:20.796Z"
      }
    ],
    "kernelspec": {
      "display_name": "Python 3 (ipykernel)",
      "language": "python",
      "name": "python3"
    },
    "language_info": {
      "codemirror_mode": {
        "name": "ipython",
        "version": 3
      },
      "file_extension": ".py",
      "mimetype": "text/x-python",
      "name": "python",
      "nbconvert_exporter": "python",
      "pygments_lexer": "ipython3",
      "version": "3.9.5"
    },
    "toc": {
      "base_numbering": 1,
      "nav_menu": {},
      "number_sections": true,
      "sideBar": true,
      "skip_h1_title": true,
      "title_cell": "Содержание",
      "title_sidebar": "Contents",
      "toc_cell": true,
      "toc_position": {
        "height": "calc(100% - 180px)",
        "left": "10px",
        "top": "150px",
        "width": "302.375px"
      },
      "toc_section_display": true,
      "toc_window_display": true
    },
    "colab": {
      "provenance": []
    }
  },
  "nbformat": 4,
  "nbformat_minor": 0
}